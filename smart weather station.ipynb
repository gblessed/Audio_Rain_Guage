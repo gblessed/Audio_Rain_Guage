{
  "cells": [
    {
      "cell_type": "markdown",
      "metadata": {
        "id": "27TMMjvi92ZN"
      },
      "source": [
        "# Import packages"
      ]
    },
    {
      "cell_type": "code",
      "execution_count": null,
      "metadata": {
        "id": "gav8Jgh12xK_"
      },
      "outputs": [],
      "source": [
        "import glob\n",
        "import os\n",
        "from pathlib import Path\n",
        "from librosa import feature\n",
        "import pandas as pd\n",
        "import librosa\n",
        "import datetime\n",
        "import time\n",
        "import numpy as np\n",
        "from sklearn.preprocessing import LabelEncoder\n",
        "from tensorflow.keras.utils import to_categorical\n",
        "import tensorflow as tf\n",
        "from sklearn.model_selection import train_test_split\n",
        "from sklearn.preprocessing import StandardScaler\n",
        "from sklearn import svm\n",
        "from sklearn import metrics\n",
        "import pickle\n",
        "import matplotlib.pyplot as plt\n",
        "# import scikitplot as skplt\n",
        "import librosa.display\n",
        "from statistics import mean\n",
        "from sklearn.metrics import mean_absolute_error, mean_squared_error, mean_absolute_percentage_error\n",
        "from sklearn.linear_model import LinearRegression\n",
        "import soundfile as sf\n",
        "from sklearn.svm import SVR\n",
        "\n",
        "\n",
        "from tensorflow.keras import Sequential, Input, models\n",
        "from tensorflow.keras.optimizers import Adam\n",
        "from tensorflow.keras import backend as K\n",
        "from tensorflow.keras.layers import Dense\n",
        "from tensorflow.keras.layers import Dropout\n",
        "from keras.layers.convolutional import Conv1D, Conv2D\n",
        "from keras.layers.convolutional import MaxPooling1D\n",
        "from keras.layers import GlobalMaxPooling1D \n",
        "import tensorflow as tf\n",
        "from keras.layers import Flatten\n",
        "from sklearn.model_selection import KFold"
      ]
    },
    {
      "cell_type": "markdown",
      "metadata": {
        "id": "SgJ2Vp6abuy_"
      },
      "source": [
        "# Mount Google Drive"
      ]
    },
    {
      "cell_type": "code",
      "execution_count": null,
      "metadata": {
        "colab": {
          "base_uri": "https://localhost:8080/"
        },
        "id": "ahrYrX_3aZ66",
        "outputId": "1d2881cb-19c3-473c-c666-f34245d9090e"
      },
      "outputs": [
        {
          "name": "stdout",
          "output_type": "stream",
          "text": [
            "Mounted at /content/drive\n"
          ]
        }
      ],
      "source": [
        "from google.colab import drive\n",
        "drive.mount('/content/drive')"
      ]
    },
    {
      "cell_type": "markdown",
      "metadata": {
        "id": "CZusYefr2xLA"
      },
      "source": [
        "# Helper functions"
      ]
    },
    {
      "cell_type": "code",
      "execution_count": null,
      "metadata": {
        "id": "hET_N6Z62xLB"
      },
      "outputs": [],
      "source": [
        "def split(filez):\n",
        "    \"\"\"\n",
        "    split the audio files into 5 sec chunks\n",
        "    \"\"\"\n",
        "    split_into = 5\n",
        "    samples_splitted = []\n",
        "    current_step = 0\n",
        "    i=0\n",
        "    X,sample_rate = librosa.load(filez, res_type=\"kaiser_best\" )\n",
        "    while current_step < len(X):\n",
        "        samples_splitted.append(X[current_step: split_into * sample_rate ])\n",
        "        sf.write(f\"set22-{i} outfile.wav\", samples_splitted[i], sample_rate)\n",
        "        current_step = split_into * sample_rate\n",
        "        i+=1\n",
        "\n",
        "        split_into += 5\n",
        "\n",
        "def rmse(y_true, y_pred):\n",
        "    return K.sqrt(K.mean(K.square(y_pred - y_true)))\n",
        "\n",
        "def mape(y_true, y_pred):\n",
        "    return (K.mean((K.abs(y_pred - y_true))/y_true) * 100)\n",
        "     "
      ]
    },
    {
      "cell_type": "markdown",
      "metadata": {
        "id": "BnMijQkw2xLC"
      },
      "source": [
        "# Load all the splitted audio files"
      ]
    },
    {
      "cell_type": "code",
      "execution_count": null,
      "metadata": {
        "colab": {
          "base_uri": "https://localhost:8080/"
        },
        "id": "j5oaXKLK2xLC",
        "outputId": "be2f62b3-951b-4252-a6ed-bed2b1069782"
      },
      "outputs": [
        {
          "name": "stdout",
          "output_type": "stream",
          "text": [
            "1595\n"
          ]
        }
      ],
      "source": [
        "path= '/content/drive/MyDrive/splitaudio/'\n",
        "files = os.listdir(path)\n",
        "audiofile = []\n",
        "for filename in glob.glob(os.path.join(path, '*.wav')):\n",
        "    data, samplerate = librosa.load(filename, res_type='kaiser_best')\n",
        "    audiofile.append(data)\n",
        "print(len(audiofile))"
      ]
    },
    {
      "cell_type": "markdown",
      "metadata": {
        "id": "PzcXAqhtdHt-"
      },
      "source": [
        "### Data Visualization"
      ]
    },
    {
      "cell_type": "markdown",
      "metadata": {
        "id": "JQAUZUDwdHpK"
      },
      "source": []
    },
    {
      "cell_type": "code",
      "execution_count": null,
      "metadata": {
        "colab": {
          "base_uri": "https://localhost:8080/",
          "height": 1000
        },
        "id": "cEwuKLrgKa0G",
        "outputId": "c5ca1e3e-2be4-42b3-a500-c900db6c4c2e"
      },
      "outputs": [
        {
          "data": {
            "image/png": "[encoded data removed]",
            "text/plain": [
              "<Figure size 432x288 with 1 Axes>"
            ]
          },
          "metadata": {
            "needs_background": "light"
          },
          "output_type": "display_data"
        },
        {
          "data": {
            "image/png": "[encoded data removed]",
            "text/plain": [
              "<Figure size 432x288 with 1 Axes>"
            ]
          },
          "metadata": {
            "needs_background": "light"
          },
          "output_type": "display_data"
        },
        {
          "data": {
            "image/png": "[encoded data removed]",
            "text/plain": [
              "<Figure size 432x288 with 1 Axes>"
            ]
          },
          "metadata": {
            "needs_background": "light"
          },
          "output_type": "display_data"
        },
        {
          "data": {
            "image/png": "[encoded data removed]",
            "text/plain": [
              "<Figure size 432x288 with 1 Axes>"
            ]
          },
          "metadata": {
            "needs_background": "light"
          },
          "output_type": "display_data"
        },
        {
          "data": {
            "image/png": "[encoded data removed]",
            "text/plain": [
              "<Figure size 432x288 with 1 Axes>"
            ]
          },
          "metadata": {
            "needs_background": "light"
          },
          "output_type": "display_data"
        },
        {
          "data": {
            "image/png": "[encoded data removed]",
            "text/plain": [
              "<Figure size 432x288 with 1 Axes>"
            ]
          },
          "metadata": {
            "needs_background": "light"
          },
          "output_type": "display_data"
        },
        {
          "data": {
            "image/png": "[encoded data removed]",
            "text/plain": [
              "<Figure size 432x288 with 1 Axes>"
            ]
          },
          "metadata": {
            "needs_background": "light"
          },
          "output_type": "display_data"
        },
        {
          "data": {
            "image/png": "[encoded data removed]",
            "text/plain": [
              "<Figure size 432x288 with 1 Axes>"
            ]
          },
          "metadata": {
            "needs_background": "light"
          },
          "output_type": "display_data"
        },
        {
          "data": {
            "image/png": "[encoded data removed]",
            "text/plain": [
              "<Figure size 432x288 with 1 Axes>"
            ]
          },
          "metadata": {
            "needs_background": "light"
          },
          "output_type": "display_data"
        },
        {
          "data": {
            "image/png": "[encoded data removed]",
            "text/plain": [
              "<Figure size 432x288 with 1 Axes>"
            ]
          },
          "metadata": {
            "needs_background": "light"
          },
          "output_type": "display_data"
        },
        {
          "data": {
            "image/png": "[encoded data removed]",
            "text/plain": [
              "<Figure size 432x288 with 1 Axes>"
            ]
          },
          "metadata": {
            "needs_background": "light"
          },
          "output_type": "display_data"
        },
        {
          "data": {
            "image/png": "[encoded data removed]",
            "text/plain": [
              "<Figure size 432x288 with 1 Axes>"
            ]
          },
          "metadata": {
            "needs_background": "light"
          },
          "output_type": "display_data"
        },
        {
          "data": {
            "image/png": "[encoded data removed]",
            "text/plain": [
              "<Figure size 432x288 with 1 Axes>"
            ]
          },
          "metadata": {
            "needs_background": "light"
          },
          "output_type": "display_data"
        },
        {
          "data": {
            "image/png": "[encoded data removed]",
            "text/plain": [
              "<Figure size 432x288 with 1 Axes>"
            ]
          },
          "metadata": {
            "needs_background": "light"
          },
          "output_type": "display_data"
        },
        {
          "data": {
            "image/png": "[encoded data removed]",
            "text/plain": [
              "<Figure size 432x288 with 1 Axes>"
            ]
          },
          "metadata": {
            "needs_background": "light"
          },
          "output_type": "display_data"
        },
        {
          "data": {
            "image/png": "[encoded data removed]",
            "text/plain": [
              "<Figure size 432x288 with 1 Axes>"
            ]
          },
          "metadata": {
            "needs_background": "light"
          },
          "output_type": "display_data"
        }
      ],
      "source": [
        "import matplotlib.pyplot as plt\n",
        "from librosa import display\n",
        "\n",
        "labels_of_each_samples = [\"0.08\", \"0.09\", \"0.1\", \"0.3\", \"0.4\", \"0.5\", \"1\", \"1.5\", \"1.8\", \"2\", \"2.5\", \"3.2\", \"4.6\", \"5\", \"5.5\", \"6.6\"]\n",
        "sample_from_each_lables = [\"9-0\", \"6-12\", \"1-0\", \"19-11\", \"5-26\", \"16-20\", \"3-16\", \"18-33\", \"7-21\", \"2-22\", \"10-19\", \"15-1\", \"11-1\", \"14-10\", \"13-56\", \"12-24\"]\n",
        "\n",
        "for sample_index in range(len(sample_from_each_lables)):\n",
        "  y, sr = librosa.load(f\"/content/drive/MyDrive/splitaudio/set{sample_from_each_lables[sample_index]} outfile.wav\")\n",
        "  fig, ax = plt.subplots(nrows=1, sharex=True)\n",
        "  \n",
        "  display.waveshow(y, sr=sr, ax=ax)\n",
        "  ax.set(title=f'Sound wave of a sample rainfall with intensity {labels_of_each_samples[sample_index]}')\n",
        "  ax.label_outer()"
      ]
    },
    {
      "cell_type": "code",
      "execution_count": null,
      "metadata": {
        "id": "SVsco_wA15oa"
      },
      "outputs": [],
      "source": [
        "S = librosa.amplitude_to_db(abs(X))"
      ]
    },
    {
      "cell_type": "code",
      "execution_count": null,
      "metadata": {
        "colab": {
          "base_uri": "https://localhost:8080/"
        },
        "id": "UNkbcSlk2xLC",
        "outputId": "3d8fc40a-aa4f-460e-93d4-b0264037c88b"
      },
      "outputs": [
        {
          "name": "stdout",
          "output_type": "stream",
          "text": [
            "1595\n"
          ]
        }
      ],
      "source": [
        "NO_PER_LABEL =NO_PER_LABEL =[65, 60, 60, 60, 61, 60, 60, 60, 60, 61, 60, 60, 60, 60, 60, 60, 60, 60, 60, 60, 60, 61, 60, 61, 60, 60]\n",
        "readings = [0.1, 2.5, 4.6, 6.6, 5.5, 5, 3.2, 0.5, 0.1, 1.5, 0.3, 2, 3.5, 3.5, 1.5, 3.5, 5.5, 5.5, 1.5, 1, 1, 0.4, 0.09, 1.8, 0.5, 0.08]\n",
        "label_list=[]\n",
        "for i,reading in zip(NO_PER_LABEL, readings):\n",
        "    count=0\n",
        "    while count <= i:\n",
        "        label_list.append(reading)\n",
        "        count+=1\n",
        "print(len(label_list))"
      ]
    },
    {
      "cell_type": "code",
      "execution_count": null,
      "metadata": {
        "id": "G0mT3phM2xLD"
      },
      "outputs": [],
      "source": [
        "import matplotlib.pyplot as plt\n",
        "from librosa import display\n",
        "plt.figure(figsize=(14, 5))\n",
        "\n",
        "# labels_of_each_samples = [\"0.08\", \"0.09\", \"0.1\", \"0.3\", \"0.4\", \"0.5\", \"1\", \"1.5\", \"1.8\", \"2\", \"2.5\", \"3.2\", \"4.6\", \"5\", \"5.5\", \"6.6\"]\n",
        "# sample_from_each_lables = [\"9-0\", \"6-12\", \"1-0\", \"19-11\", \"5-26\", \"16-20\", \"3-16\", \"18-33\", \"7-21\", \"2-22\", \"10-19\", \"15-1\", \"11-1\", \"14-10\", \"13-56\", \"12-24\"]\n",
        "labels_of_each_samples = [\"0.08\", \"6.6\"]\n",
        "sample_from_each_lables = [\"9-0\", \"12-24\"]\n",
        "\n",
        "for sample_index in range(len(sample_from_each_lables)):\n",
        "  y, sr = librosa.load(f\"/content/drive/MyDrive/splitaudio/set{sample_from_each_lables[sample_index]} outfile.wav\")\n",
        "  # fig, ax = plt.subplots(nrows=1, sharex=True)\n",
        "  # display.waveshow(librosa.feature.zero_crossing_rate(y), sr=sr, ax=ax)\n",
        "  # display.specshow(np.correlate(y, y, mode='full')[len(y)-1:], sr=22050, x_axis='time') \n",
        "  # r = np.correlate(y, y, mode='full')[len(y)-1:]\n",
        "  r = librosa.autocorrelate(y, max_size=100)\n",
        "\n",
        "  plt.plot(r[:100], label=f'ACR of a sample rainfall with intensity {labels_of_each_samples[sample_index]}')\n",
        "  plt.xlabel('Lag (samples)')\n",
        "  plt.xlim(0, 100)\n",
        "plt.legend()\n",
        "plt.title('ACR plots')\n",
        "  # ax.label_outer()\n",
        "\n",
        "# r = numpy.correlate(x, x, mode='full')[len(x)-1:]\n"
      ]
    },
    {
      "cell_type": "markdown",
      "metadata": {
        "id": "j47GsFxzjKDR"
      },
      "source": [
        "### Feature Extraction"
      ]
    },
    {
      "cell_type": "code",
      "execution_count": null,
      "metadata": {
        "colab": {
          "base_uri": "https://localhost:8080/"
        },
        "id": "xpfbh6Z3fmk9",
        "outputId": "af4691e0-a4a1-4d11-f79b-153b27f0157f"
      },
      "outputs": [
        {
          "name": "stdout",
          "output_type": "stream",
          "text": [
            "1595\n"
          ]
        }
      ],
      "source": [
        "# extract 12  mfccs for each 5sec audio file\n",
        "path= '/content/drive/MyDrive/splitaudio/'\n",
        "files = os.listdir(path)\n",
        "mfccs = []\n",
        "for filename in glob.glob(os.path.join(path, '*.wav')):\n",
        "    data, samplerate = librosa.load(filename, res_type='kaiser_best')\n",
        "    mfccs.append(np.mean(librosa.feature.mfcc(y=data, sr=22050, n_mfcc=21)[1:].T,axis=0))\n",
        "print(len(mfccs))\n",
        "\n",
        "# get the labels\n",
        "csv_file = pd.read_csv(\"/content/drive/MyDrive/splitaudio/AI4AfricaSWS.csv\")\n",
        "labels = csv_file[\"rain intensity(mm/5mins)\"]\n",
        "# save the mfccs and labels to npz\n",
        "np.savez_compressed('rain_dataset', mfcc=np.array(mfccs), label=np.array(labels))\n"
      ]
    },
    {
      "cell_type": "markdown",
      "metadata": {
        "id": "vToVwxenkU_f"
      },
      "source": [
        "### Data Aggregation "
      ]
    },
    {
      "cell_type": "markdown",
      "metadata": {
        "id": "tZfG3avEkmPW"
      },
      "source": [
        "###### load the npz file "
      ]
    },
    {
      "cell_type": "code",
      "execution_count": null,
      "metadata": {
        "colab": {
          "base_uri": "https://localhost:8080/"
        },
        "id": "dWVmwtrE2xLD",
        "outputId": "29caf6e0-72cf-4188-8dfa-bf291b1b831a"
      },
      "outputs": [
        {
          "name": "stdout",
          "output_type": "stream",
          "text": [
            "1595\n"
          ]
        },
        {
          "data": {
            "text/plain": [
              "(31900,)"
            ]
          },
          "execution_count": 93,
          "metadata": {},
          "output_type": "execute_result"
        }
      ],
      "source": [
        "rain_dataset = np.load('/content/rain_dataset.npz')\n",
        "print(len(rain_dataset['mfcc']))\n",
        "X = rain_dataset[\"mfcc\"]\n",
        "X= X.flatten() \n",
        "X.shape"
      ]
    },
    {
      "cell_type": "code",
      "execution_count": null,
      "metadata": {
        "id": "Otz6-kzU2xLE"
      },
      "outputs": [],
      "source": [
        "# pick chunks of 2 minutes =  ( 12* 24)\n",
        "from itertools import islice\n",
        "def combine_5_seconds_to_2_mins(it, size):\n",
        "    it = iter(it)\n",
        "    return list(iter(lambda: tuple(islice(it, size)), ()))\n",
        "\n",
        "combined_data = combine_5_seconds_to_2_mins(X, 480)\n",
        "label_list = combine_5_seconds_to_2_mins(rain_dataset['label'], 24)\n",
        "\n",
        "new_labels_for_combined_data = []\n",
        "for label in label_list:\n",
        "    new_labels_for_combined_data.append(label[0])\n",
        "data = np.array(combined_data, dtype=object)"
      ]
    },
    {
      "cell_type": "code",
      "execution_count": null,
      "metadata": {
        "colab": {
          "base_uri": "https://localhost:8080/"
        },
        "id": "6FYeWgqupZgV",
        "outputId": "f1651833-02db-4f8f-f083-d8c4605204b8"
      },
      "outputs": [
        {
          "data": {
            "text/plain": [
              "67"
            ]
          },
          "execution_count": 59,
          "metadata": {},
          "output_type": "execute_result"
        }
      ],
      "source": [
        "len(combined_data)"
      ]
    },
    {
      "cell_type": "code",
      "execution_count": null,
      "metadata": {
        "id": "r_2oTyFk2xLE"
      },
      "outputs": [],
      "source": [
        "combined_data =[]\n",
        "for dat in data[:-1]:\n",
        "    combined_data.append(np.array(dat, dtype=np.float64))\n",
        "combined_data = np.array(combined_data)"
      ]
    },
    {
      "cell_type": "markdown",
      "metadata": {
        "id": "wGg-NWr8rSGu"
      },
      "source": [
        "### Scaling of data"
      ]
    },
    {
      "cell_type": "code",
      "execution_count": null,
      "metadata": {
        "id": "R5hJA-882xLF"
      },
      "outputs": [],
      "source": [
        "scaler = StandardScaler()\n",
        "# good_list_scaled = (scaler.fit_transform(good_list))\n",
        "combined_data = (scaler.fit_transform(combined_data))\n"
      ]
    },
    {
      "cell_type": "markdown",
      "metadata": {
        "id": "XtsgCjhG-PCr"
      },
      "source": [
        "### No Recombination of examples\\"
      ]
    },
    {
      "cell_type": "code",
      "execution_count": null,
      "metadata": {
        "colab": {
          "base_uri": "https://localhost:8080/"
        },
        "id": "eZq9Y7_K-UT1",
        "outputId": "a4ff6aad-7347-4d4d-c0c5-3cc5f02283ef"
      },
      "outputs": [
        {
          "name": "stdout",
          "output_type": "stream",
          "text": [
            "1595\n",
            "1595\n"
          ]
        }
      ],
      "source": [
        "rain_dataset = np.load('/content/rain_dataset.npz')\n",
        "print(len(rain_dataset['mfcc']))\n",
        "X = rain_dataset[\"mfcc\"]\n",
        "Y = rain_dataset[\"label\"]\n",
        "print(len(Y))\n",
        "scaler = StandardScaler()\n",
        "# good_list_scaled = (scaler.fit_transform(good_list))\n",
        "combined_data = (scaler.fit_transform(X))"
      ]
    },
    {
      "cell_type": "markdown",
      "metadata": {
        "id": "7fW1NmYyZBaQ"
      },
      "source": [
        "Baseline Model Development (SVR)"
      ]
    },
    {
      "cell_type": "code",
      "execution_count": null,
      "metadata": {
        "colab": {
          "base_uri": "https://localhost:8080/"
        },
        "id": "Q04PWvEB2xLF",
        "outputId": "5b2c0a56-ae79-4468-c71a-88d4e05a6fa5"
      },
      "outputs": [
        {
          "name": "stdout",
          "output_type": "stream",
          "text": [
            " The Mean absolute percentage Error is -> 185.3133257083266 %\n"
          ]
        }
      ],
      "source": [
        "\n",
        "X = combined_data\n",
        "# Y =  new_labels_for_combined_data[:-1]\n",
        "# Splitting dataset into train and test set\n",
        "\n",
        "X_train, X_test, Y_train, Y_test = train_test_split(\n",
        "X, Y, test_size = 0.2, random_state = 0, shuffle=True)\n",
        "\n",
        "model = SVR(kernel=\"poly\")\n",
        "\n",
        "model.fit( X_train, Y_train )\n",
        "\n",
        "Y_pred = model.predict( X_test )\n",
        "\n",
        "mse = mean_absolute_percentage_error(Y_test, Y_pred) * 100 ##( |ypred - ytrue|/ytrue * 100)\n",
        "\n",
        "print(' The Mean absolute percentage Error is ->', mse, '%')"
      ]
    },
    {
      "cell_type": "code",
      "execution_count": null,
      "metadata": {
        "colab": {
          "base_uri": "https://localhost:8080/"
        },
        "id": "cojyO9ecjzQn",
        "outputId": "cea3f3a1-9994-45bd-abb6-6fd41bfff06c"
      },
      "outputs": [
        {
          "data": {
            "text/plain": [
              "(20,)"
            ]
          },
          "execution_count": 8,
          "metadata": {},
          "output_type": "execute_result"
        }
      ],
      "source": [
        "X_train[0].shape"
      ]
    },
    {
      "cell_type": "markdown",
      "metadata": {
        "id": "-uv2NRGr2xLG"
      },
      "source": [
        "### CNN Model"
      ]
    },
    {
      "cell_type": "code",
      "execution_count": null,
      "metadata": {
        "id": "TGJo49vXiySI"
      },
      "outputs": [],
      "source": [
        "X_train = X_train.reshape( (len(X_train), 20, 1))\n",
        "X_test = X_test.reshape( (len(X_test), 20, 1))\n",
        "X = X.reshape( (len(X), 20, 1))"
      ]
    },
    {
      "cell_type": "code",
      "execution_count": null,
      "metadata": {
        "colab": {
          "base_uri": "https://localhost:8080/",
          "height": 1000
        },
        "id": "yxoKj-T8i3pd",
        "outputId": "ece2b0f8-bac4-4b4c-a4c5-a35c6b6f43b6"
      },
      "outputs": [
        {
          "name": "stdout",
          "output_type": "stream",
          "text": [
            "[   0    1    3 ... 1592 1593 1594]\n",
            "Epoch 1/200\n",
            "32/32 [==============================] - 2s 14ms/step - loss: 90.5219 - val_loss: 57.3710\n",
            "Epoch 2/200\n",
            "32/32 [==============================] - 0s 6ms/step - loss: 84.7425 - val_loss: 56.7623\n",
            "Epoch 3/200\n",
            "32/32 [==============================] - 0s 6ms/step - loss: 85.1890 - val_loss: 65.4176\n",
            "Epoch 4/200\n",
            "32/32 [==============================] - 0s 6ms/step - loss: 85.1798 - val_loss: 71.8069\n",
            "Epoch 5/200\n",
            "32/32 [==============================] - 0s 6ms/step - loss: 84.8032 - val_loss: 58.3818\n",
            "Epoch 6/200\n",
            "32/32 [==============================] - 0s 6ms/step - loss: 84.6592 - val_loss: 59.9183\n",
            "Epoch 7/200\n",
            "32/32 [==============================] - 0s 6ms/step - loss: 84.6472 - val_loss: 60.6313\n",
            "Epoch 8/200\n",
            "32/32 [==============================] - 0s 6ms/step - loss: 84.6556 - val_loss: 60.6266\n",
            "Epoch 9/200\n",
            "32/32 [==============================] - 0s 6ms/step - loss: 84.9915 - val_loss: 57.4496\n",
            "Epoch 10/200\n",
            "32/32 [==============================] - 0s 9ms/step - loss: 84.6404 - val_loss: 60.0523\n",
            "Epoch 11/200\n",
            "32/32 [==============================] - 0s 12ms/step - loss: 84.4958 - val_loss: 61.5067\n",
            "Epoch 12/200\n",
            "32/32 [==============================] - 0s 11ms/step - loss: 84.7350 - val_loss: 64.8524\n",
            "Epoch 13/200\n",
            "32/32 [==============================] - 0s 12ms/step - loss: 84.6955 - val_loss: 57.8720\n",
            "Epoch 14/200\n",
            "32/32 [==============================] - 0s 10ms/step - loss: 84.6173 - val_loss: 58.4807\n",
            "Epoch 15/200\n",
            "32/32 [==============================] - 0s 11ms/step - loss: 84.5698 - val_loss: 58.4967\n",
            "Epoch 16/200\n",
            "32/32 [==============================] - 0s 13ms/step - loss: 84.5974 - val_loss: 59.1371\n",
            "Epoch 17/200\n",
            "32/32 [==============================] - 0s 7ms/step - loss: 84.7070 - val_loss: 64.6164\n",
            "Epoch 18/200\n",
            "32/32 [==============================] - 0s 6ms/step - loss: 84.9480 - val_loss: 61.3975\n",
            "Epoch 19/200\n",
            "32/32 [==============================] - 0s 9ms/step - loss: 84.9793 - val_loss: 55.9279\n",
            "Epoch 20/200\n",
            "32/32 [==============================] - 0s 9ms/step - loss: 84.7875 - val_loss: 63.6348\n",
            "Epoch 21/200\n",
            "32/32 [==============================] - 0s 11ms/step - loss: 84.5882 - val_loss: 67.1126\n",
            "Epoch 22/200\n",
            "32/32 [==============================] - 0s 9ms/step - loss: 84.8849 - val_loss: 58.5896\n",
            "Epoch 23/200\n",
            "32/32 [==============================] - 0s 9ms/step - loss: 84.7221 - val_loss: 60.2922\n",
            "Epoch 24/200\n",
            "32/32 [==============================] - 0s 10ms/step - loss: 84.9596 - val_loss: 58.7817\n",
            "Epoch 25/200\n",
            "32/32 [==============================] - 0s 11ms/step - loss: 84.6625 - val_loss: 58.0738\n",
            "Epoch 26/200\n",
            "32/32 [==============================] - 0s 6ms/step - loss: 84.9718 - val_loss: 68.5955\n",
            "Epoch 27/200\n",
            "32/32 [==============================] - 0s 6ms/step - loss: 84.9197 - val_loss: 58.0665\n",
            "Epoch 28/200\n",
            "32/32 [==============================] - 0s 6ms/step - loss: 85.4323 - val_loss: 65.8431\n",
            "Epoch 29/200\n",
            "32/32 [==============================] - 0s 5ms/step - loss: 84.9459 - val_loss: 59.7195\n",
            "Epoch 30/200\n",
            "32/32 [==============================] - 0s 6ms/step - loss: 84.6523 - val_loss: 64.1801\n",
            "Epoch 31/200\n",
            "32/32 [==============================] - 0s 6ms/step - loss: 84.7611 - val_loss: 56.0033\n",
            "Epoch 32/200\n",
            "32/32 [==============================] - 0s 6ms/step - loss: 84.9262 - val_loss: 58.4621\n",
            "Epoch 33/200\n",
            "32/32 [==============================] - 0s 5ms/step - loss: 84.6125 - val_loss: 60.2159\n",
            "Epoch 34/200\n",
            "32/32 [==============================] - 0s 6ms/step - loss: 85.1356 - val_loss: 58.5337\n",
            "Epoch 35/200\n",
            "32/32 [==============================] - 0s 5ms/step - loss: 84.9080 - val_loss: 56.9147\n",
            "Epoch 36/200\n",
            "32/32 [==============================] - 0s 5ms/step - loss: 84.6890 - val_loss: 58.6080\n",
            "Epoch 37/200\n",
            "32/32 [==============================] - 0s 6ms/step - loss: 84.6736 - val_loss: 67.1808\n",
            "Epoch 38/200\n",
            "32/32 [==============================] - 0s 5ms/step - loss: 85.2622 - val_loss: 61.8834\n",
            "Epoch 39/200\n",
            "32/32 [==============================] - 0s 6ms/step - loss: 85.1468 - val_loss: 62.9934\n",
            "Epoch 40/200\n",
            "32/32 [==============================] - 0s 5ms/step - loss: 84.6211 - val_loss: 60.5866\n",
            "Epoch 41/200\n",
            "32/32 [==============================] - 0s 6ms/step - loss: 84.7042 - val_loss: 60.9873\n",
            "Epoch 42/200\n",
            "32/32 [==============================] - 0s 5ms/step - loss: 84.6615 - val_loss: 60.6542\n",
            "Epoch 43/200\n",
            "32/32 [==============================] - 0s 6ms/step - loss: 84.7072 - val_loss: 59.4082\n",
            "Epoch 44/200\n",
            "32/32 [==============================] - 0s 6ms/step - loss: 84.6536 - val_loss: 57.5171\n",
            "Epoch 45/200\n",
            "32/32 [==============================] - 0s 5ms/step - loss: 84.5043 - val_loss: 60.8149\n",
            "Epoch 46/200\n",
            "32/32 [==============================] - 0s 6ms/step - loss: 84.9203 - val_loss: 76.7682\n",
            "Epoch 47/200\n",
            "32/32 [==============================] - 0s 6ms/step - loss: 85.3835 - val_loss: 62.3318\n",
            "Epoch 48/200\n",
            "32/32 [==============================] - 0s 8ms/step - loss: 85.2870 - val_loss: 54.2414\n",
            "Epoch 49/200\n",
            "32/32 [==============================] - 0s 6ms/step - loss: 85.5862 - val_loss: 61.7020\n",
            "Epoch 50/200\n",
            "32/32 [==============================] - 0s 6ms/step - loss: 84.7394 - val_loss: 61.7899\n",
            "Epoch 51/200\n",
            "32/32 [==============================] - 0s 5ms/step - loss: 84.6722 - val_loss: 60.3609\n",
            "Epoch 52/200\n",
            "32/32 [==============================] - 0s 6ms/step - loss: 84.8997 - val_loss: 69.2697\n",
            "Epoch 53/200\n",
            "32/32 [==============================] - 0s 5ms/step - loss: 85.4632 - val_loss: 57.4664\n",
            "Epoch 54/200\n",
            "32/32 [==============================] - 0s 6ms/step - loss: 84.5885 - val_loss: 59.9824\n",
            "Epoch 55/200\n",
            "32/32 [==============================] - 0s 6ms/step - loss: 84.9832 - val_loss: 73.5217\n",
            "Epoch 56/200\n",
            "32/32 [==============================] - 0s 6ms/step - loss: 85.0387 - val_loss: 56.1795\n",
            "Epoch 57/200\n",
            "32/32 [==============================] - 0s 5ms/step - loss: 84.5142 - val_loss: 58.5350\n",
            "Epoch 58/200\n",
            "32/32 [==============================] - 0s 5ms/step - loss: 84.9071 - val_loss: 57.3733\n",
            "Epoch 59/200\n",
            "32/32 [==============================] - 0s 6ms/step - loss: 84.9020 - val_loss: 65.6017\n",
            "Epoch 60/200\n",
            "32/32 [==============================] - 0s 6ms/step - loss: 85.6521 - val_loss: 65.1510\n",
            "Epoch 61/200\n",
            "32/32 [==============================] - 0s 6ms/step - loss: 84.4364 - val_loss: 57.9397\n",
            "Epoch 62/200\n",
            "32/32 [==============================] - 0s 6ms/step - loss: 84.6677 - val_loss: 58.4916\n",
            "Epoch 63/200\n",
            "32/32 [==============================] - 0s 6ms/step - loss: 84.5122 - val_loss: 59.4435\n",
            "Epoch 64/200\n",
            "32/32 [==============================] - 0s 5ms/step - loss: 84.6150 - val_loss: 56.8822\n",
            "Epoch 65/200\n",
            "32/32 [==============================] - 0s 6ms/step - loss: 84.5524 - val_loss: 56.7721\n",
            "Epoch 66/200\n",
            "32/32 [==============================] - 0s 6ms/step - loss: 84.6358 - val_loss: 59.8183\n",
            "Epoch 67/200\n",
            "32/32 [==============================] - 0s 5ms/step - loss: 84.7863 - val_loss: 57.1553\n",
            "Epoch 68/200\n",
            "32/32 [==============================] - 0s 10ms/step - loss: 85.2954 - val_loss: 61.2778\n",
            "Epoch 69/200\n",
            "32/32 [==============================] - 0s 14ms/step - loss: 85.1735 - val_loss: 58.0607\n",
            "Epoch 70/200\n",
            "32/32 [==============================] - 0s 10ms/step - loss: 84.7196 - val_loss: 58.2172\n",
            "Epoch 71/200\n",
            "32/32 [==============================] - 0s 7ms/step - loss: 84.5035 - val_loss: 57.4212\n",
            "Epoch 72/200\n",
            "32/32 [==============================] - 0s 6ms/step - loss: 84.7224 - val_loss: 64.7765\n",
            "Epoch 73/200\n",
            "32/32 [==============================] - 0s 6ms/step - loss: 84.5506 - val_loss: 57.3889\n",
            "Epoch 74/200\n",
            "32/32 [==============================] - 0s 6ms/step - loss: 85.6521 - val_loss: 78.2221\n",
            "Epoch 75/200\n",
            "32/32 [==============================] - 0s 6ms/step - loss: 85.0741 - val_loss: 61.4348\n",
            "Epoch 76/200\n",
            "32/32 [==============================] - 0s 6ms/step - loss: 84.6743 - val_loss: 61.8559\n",
            "Epoch 77/200\n",
            "32/32 [==============================] - 0s 8ms/step - loss: 84.9720 - val_loss: 62.2322\n",
            "Epoch 78/200\n",
            "32/32 [==============================] - 0s 11ms/step - loss: 85.1468 - val_loss: 67.7811\n",
            "Epoch 79/200\n",
            "32/32 [==============================] - 0s 10ms/step - loss: 84.7096 - val_loss: 59.9907\n",
            "Epoch 80/200\n",
            "32/32 [==============================] - 0s 8ms/step - loss: 84.7752 - val_loss: 61.6828\n",
            "Epoch 81/200\n",
            "32/32 [==============================] - 0s 6ms/step - loss: 85.3813 - val_loss: 57.0692\n",
            "Epoch 82/200\n",
            "32/32 [==============================] - 0s 6ms/step - loss: 85.9343 - val_loss: 54.1925\n",
            "Epoch 83/200\n",
            "32/32 [==============================] - 0s 6ms/step - loss: 84.9540 - val_loss: 58.3297\n",
            "Epoch 84/200\n",
            "32/32 [==============================] - 0s 5ms/step - loss: 84.5953 - val_loss: 64.1958\n",
            "Epoch 85/200\n",
            "32/32 [==============================] - 0s 6ms/step - loss: 85.4688 - val_loss: 66.8150\n",
            "Epoch 86/200\n",
            "32/32 [==============================] - 0s 6ms/step - loss: 84.9983 - val_loss: 66.2781\n",
            "Epoch 87/200\n",
            "32/32 [==============================] - 0s 6ms/step - loss: 85.1070 - val_loss: 58.6637\n",
            "Epoch 88/200\n",
            "32/32 [==============================] - 0s 5ms/step - loss: 84.7162 - val_loss: 56.9858\n",
            "Epoch 89/200\n",
            "32/32 [==============================] - 0s 6ms/step - loss: 84.5817 - val_loss: 57.9218\n",
            "Epoch 90/200\n",
            "32/32 [==============================] - 0s 5ms/step - loss: 84.4636 - val_loss: 58.9093\n",
            "Epoch 91/200\n",
            "32/32 [==============================] - 0s 6ms/step - loss: 84.5544 - val_loss: 57.8263\n",
            "Epoch 92/200\n",
            "32/32 [==============================] - 0s 6ms/step - loss: 84.5815 - val_loss: 57.8686\n",
            "Epoch 93/200\n",
            "32/32 [==============================] - 0s 5ms/step - loss: 84.4969 - val_loss: 55.7921\n",
            "Epoch 94/200\n",
            "32/32 [==============================] - 0s 6ms/step - loss: 85.3080 - val_loss: 59.1415\n",
            "Epoch 95/200\n",
            "32/32 [==============================] - 0s 5ms/step - loss: 84.6487 - val_loss: 57.3647\n",
            "Epoch 96/200\n",
            "32/32 [==============================] - 0s 6ms/step - loss: 84.5892 - val_loss: 56.9662\n",
            "Epoch 97/200\n",
            "32/32 [==============================] - 0s 6ms/step - loss: 84.9855 - val_loss: 57.7659\n",
            "Epoch 98/200\n",
            "32/32 [==============================] - 0s 6ms/step - loss: 84.7197 - val_loss: 65.5200\n",
            "Epoch 99/200\n",
            "32/32 [==============================] - 0s 5ms/step - loss: 84.5988 - val_loss: 58.3517\n",
            "Epoch 100/200\n",
            "32/32 [==============================] - 0s 6ms/step - loss: 84.7976 - val_loss: 56.6161\n",
            "Epoch 101/200\n",
            "32/32 [==============================] - 0s 5ms/step - loss: 84.4796 - val_loss: 58.7972\n",
            "Epoch 102/200\n",
            "32/32 [==============================] - 0s 6ms/step - loss: 84.7283 - val_loss: 61.8706\n",
            "Epoch 103/200\n",
            "32/32 [==============================] - 0s 6ms/step - loss: 84.8009 - val_loss: 62.3892\n",
            "Epoch 104/200\n",
            "32/32 [==============================] - 0s 5ms/step - loss: 84.8031 - val_loss: 60.4847\n",
            "Epoch 105/200\n",
            "32/32 [==============================] - 0s 6ms/step - loss: 84.7795 - val_loss: 60.9867\n",
            "Epoch 106/200\n",
            "32/32 [==============================] - 0s 6ms/step - loss: 84.7649 - val_loss: 71.7724\n",
            "Epoch 107/200\n",
            "32/32 [==============================] - 0s 6ms/step - loss: 85.4271 - val_loss: 57.5753\n",
            "Epoch 108/200\n",
            "32/32 [==============================] - 0s 6ms/step - loss: 85.0017 - val_loss: 58.9325\n",
            "Epoch 109/200\n",
            "32/32 [==============================] - 0s 5ms/step - loss: 84.8039 - val_loss: 60.7796\n",
            "Epoch 110/200\n",
            "32/32 [==============================] - 0s 6ms/step - loss: 84.4605 - val_loss: 58.6728\n",
            "Epoch 111/200\n",
            "32/32 [==============================] - 0s 6ms/step - loss: 84.5478 - val_loss: 59.6348\n",
            "Epoch 112/200\n",
            "32/32 [==============================] - 0s 5ms/step - loss: 84.7253 - val_loss: 66.1379\n",
            "Epoch 113/200\n",
            "32/32 [==============================] - 0s 6ms/step - loss: 84.7628 - val_loss: 59.3684\n",
            "Epoch 114/200\n",
            "32/32 [==============================] - 0s 6ms/step - loss: 84.6150 - val_loss: 57.9718\n",
            "Epoch 115/200\n",
            "32/32 [==============================] - 0s 6ms/step - loss: 84.6508 - val_loss: 58.9238\n",
            "Epoch 116/200\n",
            "32/32 [==============================] - 0s 5ms/step - loss: 84.6860 - val_loss: 62.0546\n",
            "Epoch 117/200\n",
            "32/32 [==============================] - 0s 6ms/step - loss: 84.8445 - val_loss: 63.8543\n",
            "Epoch 118/200\n",
            "32/32 [==============================] - 0s 6ms/step - loss: 84.7989 - val_loss: 72.3120\n",
            "Epoch 119/200\n",
            "32/32 [==============================] - 0s 6ms/step - loss: 85.1662 - val_loss: 58.5348\n",
            "Epoch 120/200\n",
            "32/32 [==============================] - 0s 6ms/step - loss: 84.7200 - val_loss: 62.8803\n",
            "Epoch 121/200\n",
            "32/32 [==============================] - 0s 7ms/step - loss: 85.0879 - val_loss: 58.9626\n",
            "Epoch 122/200\n",
            "32/32 [==============================] - 0s 6ms/step - loss: 84.9406 - val_loss: 65.2955\n",
            "Epoch 123/200\n",
            "32/32 [==============================] - 0s 5ms/step - loss: 84.7198 - val_loss: 57.4676\n",
            "Epoch 124/200\n",
            "32/32 [==============================] - 0s 7ms/step - loss: 84.6283 - val_loss: 58.6076\n",
            "Epoch 125/200\n",
            "32/32 [==============================] - 0s 6ms/step - loss: 84.6454 - val_loss: 58.8327\n",
            "Epoch 126/200\n",
            "32/32 [==============================] - 0s 6ms/step - loss: 84.8346 - val_loss: 57.2336\n",
            "Epoch 127/200\n",
            "32/32 [==============================] - 0s 6ms/step - loss: 84.7698 - val_loss: 62.4218\n",
            "Epoch 128/200\n",
            "32/32 [==============================] - 0s 6ms/step - loss: 84.5468 - val_loss: 57.0246\n",
            "Epoch 129/200\n",
            "32/32 [==============================] - 0s 6ms/step - loss: 84.8623 - val_loss: 69.6533\n",
            "Epoch 130/200\n",
            "32/32 [==============================] - 0s 6ms/step - loss: 84.7106 - val_loss: 58.9635\n",
            "Epoch 131/200\n",
            "32/32 [==============================] - 0s 6ms/step - loss: 84.5905 - val_loss: 59.2857\n",
            "Epoch 132/200\n",
            "32/32 [==============================] - 0s 6ms/step - loss: 84.6210 - val_loss: 63.0461\n",
            "Epoch 133/200\n",
            "32/32 [==============================] - 0s 6ms/step - loss: 84.6536 - val_loss: 58.2041\n",
            "Epoch 134/200\n",
            "32/32 [==============================] - 0s 6ms/step - loss: 84.4828 - val_loss: 57.7169\n",
            "Epoch 135/200\n",
            "32/32 [==============================] - 0s 6ms/step - loss: 84.7989 - val_loss: 54.9840\n",
            "Epoch 136/200\n",
            "32/32 [==============================] - 0s 6ms/step - loss: 85.1845 - val_loss: 60.0942\n",
            "Epoch 137/200\n",
            "32/32 [==============================] - 0s 6ms/step - loss: 84.7725 - val_loss: 57.0554\n",
            "Epoch 138/200\n",
            "32/32 [==============================] - 0s 6ms/step - loss: 84.5974 - val_loss: 61.1279\n",
            "Epoch 139/200\n",
            "32/32 [==============================] - 0s 6ms/step - loss: 84.7189 - val_loss: 58.6940\n",
            "Epoch 140/200\n",
            "32/32 [==============================] - 0s 6ms/step - loss: 84.6615 - val_loss: 60.0811\n",
            "Epoch 141/200\n",
            "32/32 [==============================] - 0s 6ms/step - loss: 84.6844 - val_loss: 57.6754\n",
            "Epoch 142/200\n",
            "32/32 [==============================] - 0s 6ms/step - loss: 84.4848 - val_loss: 63.9716\n",
            "Epoch 143/200\n",
            "32/32 [==============================] - 0s 6ms/step - loss: 84.6281 - val_loss: 62.4753\n",
            "Epoch 144/200\n",
            "32/32 [==============================] - 0s 6ms/step - loss: 85.0539 - val_loss: 69.3620\n",
            "Epoch 145/200\n",
            "32/32 [==============================] - 0s 6ms/step - loss: 85.0200 - val_loss: 61.9239\n",
            "Epoch 146/200\n",
            "32/32 [==============================] - 0s 6ms/step - loss: 84.7218 - val_loss: 67.7328\n",
            "Epoch 147/200\n",
            "32/32 [==============================] - 0s 5ms/step - loss: 84.8110 - val_loss: 67.0961\n",
            "Epoch 148/200\n",
            "32/32 [==============================] - 0s 6ms/step - loss: 84.7688 - val_loss: 57.9232\n",
            "Epoch 149/200\n",
            "32/32 [==============================] - 0s 6ms/step - loss: 84.6980 - val_loss: 63.4495\n",
            "Epoch 150/200\n",
            "32/32 [==============================] - 0s 6ms/step - loss: 84.9046 - val_loss: 61.4330\n",
            "Epoch 151/200\n",
            "32/32 [==============================] - 0s 6ms/step - loss: 84.5658 - val_loss: 60.0040\n",
            "Epoch 152/200\n",
            "32/32 [==============================] - 0s 6ms/step - loss: 84.6464 - val_loss: 64.5773\n",
            "Epoch 153/200\n",
            "32/32 [==============================] - 0s 6ms/step - loss: 84.8498 - val_loss: 57.4110\n",
            "Epoch 154/200\n",
            "32/32 [==============================] - 0s 6ms/step - loss: 84.7060 - val_loss: 62.6044\n",
            "Epoch 155/200\n",
            "32/32 [==============================] - 0s 6ms/step - loss: 84.8021 - val_loss: 57.5443\n",
            "Epoch 156/200\n",
            "32/32 [==============================] - 0s 7ms/step - loss: 84.6648 - val_loss: 57.0396\n",
            "Epoch 157/200\n",
            "32/32 [==============================] - 0s 6ms/step - loss: 85.1710 - val_loss: 58.1665\n",
            "Epoch 158/200\n",
            "32/32 [==============================] - 0s 6ms/step - loss: 84.7014 - val_loss: 61.3918\n",
            "Epoch 159/200\n",
            "32/32 [==============================] - 0s 6ms/step - loss: 85.5685 - val_loss: 58.1162\n",
            "Epoch 160/200\n",
            "32/32 [==============================] - 0s 6ms/step - loss: 84.9056 - val_loss: 58.1137\n",
            "Epoch 161/200\n",
            "32/32 [==============================] - 0s 7ms/step - loss: 84.7370 - val_loss: 57.4537\n",
            "Epoch 162/200\n",
            "32/32 [==============================] - 0s 5ms/step - loss: 84.8823 - val_loss: 58.2000\n",
            "Epoch 163/200\n",
            "32/32 [==============================] - 0s 6ms/step - loss: 84.5466 - val_loss: 60.5821\n",
            "Epoch 164/200\n",
            "32/32 [==============================] - 0s 5ms/step - loss: 84.9086 - val_loss: 61.6522\n",
            "Epoch 165/200\n",
            "32/32 [==============================] - 0s 6ms/step - loss: 84.6245 - val_loss: 55.9478\n",
            "Epoch 166/200\n",
            "32/32 [==============================] - 0s 6ms/step - loss: 84.7103 - val_loss: 63.0992\n",
            "Epoch 167/200\n",
            "32/32 [==============================] - 0s 6ms/step - loss: 84.5547 - val_loss: 60.5548\n",
            "Epoch 168/200\n",
            "32/32 [==============================] - 0s 6ms/step - loss: 84.5913 - val_loss: 58.4513\n",
            "Epoch 169/200\n",
            "32/32 [==============================] - 0s 6ms/step - loss: 84.6029 - val_loss: 58.2691\n",
            "Epoch 170/200\n",
            "32/32 [==============================] - 0s 6ms/step - loss: 84.6515 - val_loss: 58.1623\n",
            "Epoch 171/200\n",
            "32/32 [==============================] - 0s 7ms/step - loss: 84.5911 - val_loss: 58.0114\n",
            "Epoch 172/200\n",
            "32/32 [==============================] - 0s 6ms/step - loss: 84.5084 - val_loss: 62.6960\n",
            "Epoch 173/200\n",
            "32/32 [==============================] - 0s 6ms/step - loss: 85.5470 - val_loss: 66.2706\n",
            "Epoch 174/200\n",
            "32/32 [==============================] - 0s 6ms/step - loss: 85.1773 - val_loss: 58.6330\n",
            "Epoch 175/200\n",
            "32/32 [==============================] - 0s 6ms/step - loss: 85.5595 - val_loss: 59.1416\n",
            "Epoch 176/200\n",
            "32/32 [==============================] - 0s 6ms/step - loss: 84.6814 - val_loss: 62.9952\n",
            "Epoch 177/200\n",
            "32/32 [==============================] - 0s 6ms/step - loss: 84.6329 - val_loss: 59.1404\n",
            "Epoch 178/200\n",
            "32/32 [==============================] - 0s 6ms/step - loss: 84.7468 - val_loss: 58.3351\n",
            "Epoch 179/200\n",
            "32/32 [==============================] - 0s 6ms/step - loss: 84.6687 - val_loss: 58.8008\n",
            "Epoch 180/200\n",
            "32/32 [==============================] - 0s 6ms/step - loss: 84.6826 - val_loss: 54.3522\n",
            "Epoch 181/200\n",
            "32/32 [==============================] - 0s 7ms/step - loss: 84.7734 - val_loss: 70.5616\n",
            "Epoch 182/200\n",
            "32/32 [==============================] - 0s 6ms/step - loss: 85.1804 - val_loss: 59.9274\n",
            "Epoch 183/200\n",
            "32/32 [==============================] - 0s 6ms/step - loss: 84.5420 - val_loss: 59.5051\n",
            "Epoch 184/200\n",
            "32/32 [==============================] - 0s 6ms/step - loss: 84.6530 - val_loss: 65.5941\n",
            "Epoch 185/200\n",
            "32/32 [==============================] - 0s 6ms/step - loss: 84.6183 - val_loss: 56.6962\n",
            "Epoch 186/200\n",
            "32/32 [==============================] - 0s 6ms/step - loss: 84.8362 - val_loss: 64.2250\n",
            "Epoch 187/200\n",
            "32/32 [==============================] - 0s 7ms/step - loss: 84.8275 - val_loss: 58.9997\n",
            "Epoch 188/200\n",
            "32/32 [==============================] - 0s 6ms/step - loss: 84.4936 - val_loss: 58.8637\n",
            "Epoch 189/200\n",
            "32/32 [==============================] - 0s 6ms/step - loss: 84.6281 - val_loss: 64.5584\n",
            "Epoch 190/200\n",
            "32/32 [==============================] - 0s 6ms/step - loss: 84.8522 - val_loss: 68.4855\n",
            "Epoch 191/200\n",
            "32/32 [==============================] - 0s 7ms/step - loss: 84.6493 - val_loss: 60.0220\n",
            "Epoch 192/200\n",
            "32/32 [==============================] - 0s 7ms/step - loss: 84.7872 - val_loss: 66.2662\n",
            "Epoch 193/200\n",
            "32/32 [==============================] - 0s 6ms/step - loss: 84.6520 - val_loss: 57.1149\n",
            "Epoch 194/200\n",
            "32/32 [==============================] - 0s 6ms/step - loss: 84.7402 - val_loss: 60.7427\n",
            "Epoch 195/200\n",
            "32/32 [==============================] - 0s 13ms/step - loss: 84.6208 - val_loss: 58.4853\n",
            "Epoch 196/200\n",
            "32/32 [==============================] - 0s 14ms/step - loss: 84.5378 - val_loss: 59.5068\n",
            "Epoch 197/200\n",
            "32/32 [==============================] - 0s 10ms/step - loss: 84.5424 - val_loss: 57.8557\n",
            "Epoch 198/200\n",
            "32/32 [==============================] - 0s 6ms/step - loss: 84.4699 - val_loss: 57.6270\n",
            "Epoch 199/200\n",
            "32/32 [==============================] - 0s 10ms/step - loss: 84.8975 - val_loss: 60.6488\n",
            "Epoch 200/200\n",
            "32/32 [==============================] - 0s 15ms/step - loss: 84.7037 - val_loss: 62.8592\n",
            "10/10 [==============================] - 0s 4ms/step\n",
            "[   0    1    2 ... 1591 1592 1593]\n",
            "Epoch 1/200\n",
            "32/32 [==============================] - 1s 11ms/step - loss: 86.0506 - val_loss: 63.5741\n",
            "Epoch 2/200\n",
            "32/32 [==============================] - 0s 6ms/step - loss: 85.4115 - val_loss: 61.9247\n",
            "Epoch 3/200\n",
            "32/32 [==============================] - 0s 6ms/step - loss: 85.0713 - val_loss: 59.4931\n",
            "Epoch 4/200\n",
            "32/32 [==============================] - 0s 6ms/step - loss: 84.9920 - val_loss: 56.8249\n",
            "Epoch 5/200\n",
            "32/32 [==============================] - 0s 7ms/step - loss: 84.8683 - val_loss: 63.3359\n",
            "Epoch 6/200\n",
            "32/32 [==============================] - 0s 7ms/step - loss: 85.5757 - val_loss: 69.3239\n",
            "Epoch 7/200\n",
            "32/32 [==============================] - 0s 6ms/step - loss: 85.5096 - val_loss: 59.7470\n",
            "Epoch 8/200\n",
            "32/32 [==============================] - 0s 6ms/step - loss: 84.9024 - val_loss: 58.8233\n",
            "Epoch 9/200\n",
            "32/32 [==============================] - 0s 6ms/step - loss: 84.9094 - val_loss: 57.9594\n",
            "Epoch 10/200\n",
            "32/32 [==============================] - 0s 7ms/step - loss: 84.7735 - val_loss: 58.1185\n",
            "Epoch 11/200\n",
            "32/32 [==============================] - 0s 6ms/step - loss: 84.8166 - val_loss: 57.9450\n",
            "Epoch 12/200\n",
            "32/32 [==============================] - 0s 6ms/step - loss: 84.7970 - val_loss: 59.9993\n",
            "Epoch 13/200\n",
            "32/32 [==============================] - 0s 6ms/step - loss: 84.8303 - val_loss: 58.3521\n",
            "Epoch 14/200\n",
            "32/32 [==============================] - 0s 7ms/step - loss: 85.1308 - val_loss: 69.8310\n",
            "Epoch 15/200\n",
            "32/32 [==============================] - 0s 6ms/step - loss: 85.2590 - val_loss: 62.4700\n",
            "Epoch 16/200\n",
            "32/32 [==============================] - 0s 6ms/step - loss: 85.4464 - val_loss: 56.0406\n",
            "Epoch 17/200\n",
            "32/32 [==============================] - 0s 6ms/step - loss: 85.0635 - val_loss: 58.7077\n",
            "Epoch 18/200\n",
            "32/32 [==============================] - 0s 6ms/step - loss: 84.7450 - val_loss: 58.3782\n",
            "Epoch 19/200\n",
            "32/32 [==============================] - 0s 6ms/step - loss: 85.1458 - val_loss: 60.7145\n",
            "Epoch 20/200\n",
            "32/32 [==============================] - 0s 7ms/step - loss: 84.8472 - val_loss: 62.4363\n",
            "Epoch 21/200\n",
            "32/32 [==============================] - 0s 5ms/step - loss: 85.0244 - val_loss: 70.0504\n",
            "Epoch 22/200\n",
            "32/32 [==============================] - 0s 6ms/step - loss: 85.5328 - val_loss: 56.2937\n",
            "Epoch 23/200\n",
            "32/32 [==============================] - 0s 6ms/step - loss: 85.3485 - val_loss: 62.0350\n",
            "Epoch 24/200\n",
            "32/32 [==============================] - 0s 6ms/step - loss: 84.9224 - val_loss: 68.5712\n",
            "Epoch 25/200\n",
            "32/32 [==============================] - 0s 6ms/step - loss: 85.7323 - val_loss: 65.4145\n",
            "Epoch 26/200\n",
            "32/32 [==============================] - 0s 6ms/step - loss: 85.3564 - val_loss: 57.0707\n",
            "Epoch 27/200\n",
            "32/32 [==============================] - 0s 6ms/step - loss: 84.8433 - val_loss: 58.3324\n",
            "Epoch 28/200\n",
            "32/32 [==============================] - 0s 6ms/step - loss: 85.1869 - val_loss: 63.0351\n",
            "Epoch 29/200\n",
            "32/32 [==============================] - 0s 5ms/step - loss: 85.1497 - val_loss: 57.0454\n",
            "Epoch 30/200\n",
            "32/32 [==============================] - 0s 6ms/step - loss: 84.7330 - val_loss: 58.5789\n",
            "Epoch 31/200\n",
            "32/32 [==============================] - 0s 6ms/step - loss: 84.8827 - val_loss: 56.6028\n",
            "Epoch 32/200\n",
            "32/32 [==============================] - 0s 5ms/step - loss: 85.2277 - val_loss: 58.8469\n",
            "Epoch 33/200\n",
            "32/32 [==============================] - 0s 6ms/step - loss: 85.0086 - val_loss: 57.5065\n",
            "Epoch 34/200\n",
            "32/32 [==============================] - 0s 6ms/step - loss: 84.8564 - val_loss: 68.2069\n",
            "Epoch 35/200\n",
            "32/32 [==============================] - 0s 5ms/step - loss: 85.3687 - val_loss: 60.4325\n",
            "Epoch 36/200\n",
            "32/32 [==============================] - 0s 6ms/step - loss: 84.8882 - val_loss: 59.6562\n",
            "Epoch 37/200\n",
            "32/32 [==============================] - 0s 6ms/step - loss: 85.0452 - val_loss: 56.9141\n",
            "Epoch 38/200\n",
            "32/32 [==============================] - 0s 6ms/step - loss: 84.9378 - val_loss: 57.6370\n",
            "Epoch 39/200\n",
            "32/32 [==============================] - 0s 6ms/step - loss: 85.2059 - val_loss: 65.5215\n",
            "Epoch 40/200\n",
            "32/32 [==============================] - 0s 6ms/step - loss: 85.4826 - val_loss: 60.5008\n",
            "Epoch 41/200\n",
            "32/32 [==============================] - 0s 7ms/step - loss: 85.0022 - val_loss: 59.2313\n",
            "Epoch 42/200\n",
            "32/32 [==============================] - 0s 6ms/step - loss: 84.9447 - val_loss: 64.4194\n",
            "Epoch 43/200\n",
            "32/32 [==============================] - 0s 6ms/step - loss: 85.0827 - val_loss: 65.4479\n",
            "Epoch 44/200\n",
            "32/32 [==============================] - 0s 6ms/step - loss: 84.8363 - val_loss: 58.2681\n",
            "Epoch 45/200\n",
            "32/32 [==============================] - 0s 6ms/step - loss: 84.8551 - val_loss: 60.3548\n",
            "Epoch 46/200\n",
            "32/32 [==============================] - 0s 7ms/step - loss: 84.8957 - val_loss: 60.2023\n",
            "Epoch 47/200\n",
            "32/32 [==============================] - 0s 6ms/step - loss: 85.1330 - val_loss: 67.7668\n",
            "Epoch 48/200\n",
            "32/32 [==============================] - 0s 6ms/step - loss: 85.7306 - val_loss: 68.5586\n",
            "Epoch 49/200\n",
            "32/32 [==============================] - 0s 6ms/step - loss: 85.1868 - val_loss: 58.1432\n",
            "Epoch 50/200\n",
            "32/32 [==============================] - 0s 5ms/step - loss: 84.7508 - val_loss: 57.6433\n",
            "Epoch 51/200\n",
            "32/32 [==============================] - 0s 6ms/step - loss: 85.1401 - val_loss: 55.1838\n",
            "Epoch 52/200\n",
            "32/32 [==============================] - 0s 6ms/step - loss: 85.1297 - val_loss: 58.1967\n",
            "Epoch 53/200\n",
            "32/32 [==============================] - 0s 6ms/step - loss: 84.7886 - val_loss: 57.8261\n",
            "Epoch 54/200\n",
            "32/32 [==============================] - 0s 6ms/step - loss: 85.2386 - val_loss: 67.4176\n",
            "Epoch 55/200\n",
            "32/32 [==============================] - 0s 6ms/step - loss: 85.2838 - val_loss: 60.4368\n",
            "Epoch 56/200\n",
            "32/32 [==============================] - 0s 6ms/step - loss: 84.9362 - val_loss: 60.2621\n",
            "Epoch 57/200\n",
            "32/32 [==============================] - 0s 6ms/step - loss: 85.0402 - val_loss: 60.6061\n",
            "Epoch 58/200\n",
            "32/32 [==============================] - 0s 7ms/step - loss: 84.8879 - val_loss: 58.0632\n",
            "Epoch 59/200\n",
            "32/32 [==============================] - 0s 6ms/step - loss: 84.7831 - val_loss: 56.7031\n",
            "Epoch 60/200\n",
            "32/32 [==============================] - 0s 6ms/step - loss: 84.8675 - val_loss: 58.6579\n",
            "Epoch 61/200\n",
            "32/32 [==============================] - 0s 6ms/step - loss: 85.0999 - val_loss: 65.4089\n",
            "Epoch 62/200\n",
            "32/32 [==============================] - 0s 6ms/step - loss: 84.9999 - val_loss: 58.4487\n",
            "Epoch 63/200\n",
            "32/32 [==============================] - 0s 7ms/step - loss: 84.9951 - val_loss: 73.8648\n",
            "Epoch 64/200\n",
            "32/32 [==============================] - 0s 6ms/step - loss: 85.9266 - val_loss: 70.4565\n",
            "Epoch 65/200\n",
            "32/32 [==============================] - 0s 6ms/step - loss: 85.4335 - val_loss: 57.3876\n",
            "Epoch 66/200\n",
            "32/32 [==============================] - 0s 7ms/step - loss: 85.0101 - val_loss: 59.6263\n",
            "Epoch 67/200\n",
            "32/32 [==============================] - 0s 6ms/step - loss: 84.7487 - val_loss: 58.5538\n",
            "Epoch 68/200\n",
            "32/32 [==============================] - 0s 6ms/step - loss: 84.9360 - val_loss: 57.8181\n",
            "Epoch 69/200\n",
            "32/32 [==============================] - 0s 6ms/step - loss: 84.7803 - val_loss: 59.1627\n",
            "Epoch 70/200\n",
            "32/32 [==============================] - 0s 6ms/step - loss: 84.9762 - val_loss: 60.1619\n",
            "Epoch 71/200\n",
            "32/32 [==============================] - 0s 6ms/step - loss: 85.0347 - val_loss: 58.9624\n",
            "Epoch 72/200\n",
            "32/32 [==============================] - 0s 6ms/step - loss: 85.0600 - val_loss: 61.0212\n",
            "Epoch 73/200\n",
            "32/32 [==============================] - 0s 6ms/step - loss: 84.7848 - val_loss: 61.0199\n",
            "Epoch 74/200\n",
            "32/32 [==============================] - 0s 6ms/step - loss: 85.2655 - val_loss: 67.8849\n",
            "Epoch 75/200\n",
            "32/32 [==============================] - 0s 6ms/step - loss: 85.0483 - val_loss: 59.4777\n",
            "Epoch 76/200\n",
            "32/32 [==============================] - 0s 6ms/step - loss: 84.8008 - val_loss: 61.0497\n",
            "Epoch 77/200\n",
            "32/32 [==============================] - 0s 6ms/step - loss: 84.9724 - val_loss: 56.3554\n",
            "Epoch 78/200\n",
            "32/32 [==============================] - 0s 6ms/step - loss: 85.1149 - val_loss: 59.6574\n",
            "Epoch 79/200\n",
            "32/32 [==============================] - 0s 6ms/step - loss: 84.8532 - val_loss: 58.5704\n",
            "Epoch 80/200\n",
            "32/32 [==============================] - 0s 6ms/step - loss: 84.8294 - val_loss: 60.5241\n",
            "Epoch 81/200\n",
            "32/32 [==============================] - 0s 6ms/step - loss: 84.9746 - val_loss: 63.6960\n",
            "Epoch 82/200\n",
            "32/32 [==============================] - 0s 6ms/step - loss: 84.9495 - val_loss: 57.5504\n",
            "Epoch 83/200\n",
            "32/32 [==============================] - 0s 6ms/step - loss: 85.0194 - val_loss: 60.5594\n",
            "Epoch 84/200\n",
            "32/32 [==============================] - 0s 6ms/step - loss: 84.8632 - val_loss: 64.7944\n",
            "Epoch 85/200\n",
            "32/32 [==============================] - 0s 6ms/step - loss: 84.9310 - val_loss: 63.5610\n",
            "Epoch 86/200\n",
            "32/32 [==============================] - 0s 6ms/step - loss: 85.0298 - val_loss: 58.2146\n",
            "Epoch 87/200\n",
            "32/32 [==============================] - 0s 6ms/step - loss: 84.9299 - val_loss: 61.1595\n",
            "Epoch 88/200\n",
            "32/32 [==============================] - 0s 6ms/step - loss: 84.9059 - val_loss: 62.4889\n",
            "Epoch 89/200\n",
            "32/32 [==============================] - 0s 6ms/step - loss: 84.9661 - val_loss: 60.8285\n",
            "Epoch 90/200\n",
            "32/32 [==============================] - 0s 6ms/step - loss: 85.1429 - val_loss: 67.9445\n",
            "Epoch 91/200\n",
            "32/32 [==============================] - 0s 7ms/step - loss: 85.5828 - val_loss: 56.6122\n",
            "Epoch 92/200\n",
            "32/32 [==============================] - 0s 6ms/step - loss: 85.0088 - val_loss: 58.7990\n",
            "Epoch 93/200\n",
            "32/32 [==============================] - 0s 6ms/step - loss: 84.8023 - val_loss: 59.8497\n",
            "Epoch 94/200\n",
            "32/32 [==============================] - 0s 7ms/step - loss: 85.0710 - val_loss: 62.5281\n",
            "Epoch 95/200\n",
            "32/32 [==============================] - 0s 6ms/step - loss: 85.0140 - val_loss: 54.7295\n",
            "Epoch 96/200\n",
            "32/32 [==============================] - 0s 6ms/step - loss: 85.2310 - val_loss: 61.9475\n",
            "Epoch 97/200\n",
            "32/32 [==============================] - 0s 7ms/step - loss: 84.9715 - val_loss: 57.3320\n",
            "Epoch 98/200\n",
            "32/32 [==============================] - 0s 6ms/step - loss: 84.7579 - val_loss: 65.3437\n",
            "Epoch 99/200\n",
            "32/32 [==============================] - 0s 6ms/step - loss: 85.1227 - val_loss: 56.8646\n",
            "Epoch 100/200\n",
            "32/32 [==============================] - 0s 6ms/step - loss: 85.1422 - val_loss: 59.3515\n",
            "Epoch 101/200\n",
            "32/32 [==============================] - 0s 6ms/step - loss: 84.8318 - val_loss: 56.3490\n",
            "Epoch 102/200\n",
            "32/32 [==============================] - 0s 6ms/step - loss: 84.9945 - val_loss: 60.2000\n",
            "Epoch 103/200\n",
            "32/32 [==============================] - 0s 6ms/step - loss: 84.9152 - val_loss: 62.1701\n",
            "Epoch 104/200\n",
            "32/32 [==============================] - 0s 6ms/step - loss: 85.1808 - val_loss: 57.9679\n",
            "Epoch 105/200\n",
            "32/32 [==============================] - 0s 6ms/step - loss: 85.0072 - val_loss: 62.8574\n",
            "Epoch 106/200\n",
            "32/32 [==============================] - 0s 6ms/step - loss: 84.7831 - val_loss: 61.2878\n",
            "Epoch 107/200\n",
            "32/32 [==============================] - 0s 7ms/step - loss: 85.4703 - val_loss: 54.9923\n",
            "Epoch 108/200\n",
            "32/32 [==============================] - 0s 6ms/step - loss: 85.5846 - val_loss: 63.1055\n",
            "Epoch 109/200\n",
            "32/32 [==============================] - 0s 6ms/step - loss: 85.3326 - val_loss: 66.3839\n",
            "Epoch 110/200\n",
            "32/32 [==============================] - 0s 6ms/step - loss: 85.1322 - val_loss: 58.1918\n",
            "Epoch 111/200\n",
            "32/32 [==============================] - 0s 6ms/step - loss: 85.1860 - val_loss: 56.3941\n",
            "Epoch 112/200\n",
            "32/32 [==============================] - 0s 7ms/step - loss: 84.7840 - val_loss: 59.4891\n",
            "Epoch 113/200\n",
            "32/32 [==============================] - 0s 6ms/step - loss: 84.9581 - val_loss: 56.9357\n",
            "Epoch 114/200\n",
            "32/32 [==============================] - 0s 6ms/step - loss: 84.8899 - val_loss: 57.2649\n",
            "Epoch 115/200\n",
            "32/32 [==============================] - 0s 6ms/step - loss: 84.7446 - val_loss: 58.7619\n",
            "Epoch 116/200\n",
            "32/32 [==============================] - 0s 6ms/step - loss: 84.7505 - val_loss: 59.6860\n",
            "Epoch 117/200\n",
            "32/32 [==============================] - 0s 7ms/step - loss: 85.0116 - val_loss: 57.5520\n",
            "Epoch 118/200\n",
            "32/32 [==============================] - 0s 6ms/step - loss: 84.8196 - val_loss: 59.4529\n",
            "Epoch 119/200\n",
            "32/32 [==============================] - 0s 6ms/step - loss: 84.7652 - val_loss: 63.8452\n",
            "Epoch 120/200\n",
            "32/32 [==============================] - 0s 6ms/step - loss: 85.1859 - val_loss: 57.7454\n",
            "Epoch 121/200\n",
            "32/32 [==============================] - 0s 6ms/step - loss: 84.7813 - val_loss: 62.1550\n",
            "Epoch 122/200\n",
            "32/32 [==============================] - 0s 6ms/step - loss: 84.9808 - val_loss: 61.6952\n",
            "Epoch 123/200\n",
            "32/32 [==============================] - 0s 7ms/step - loss: 84.9217 - val_loss: 57.7843\n",
            "Epoch 124/200\n",
            "32/32 [==============================] - 0s 6ms/step - loss: 85.2121 - val_loss: 55.0441\n",
            "Epoch 125/200\n",
            "32/32 [==============================] - 0s 7ms/step - loss: 85.1378 - val_loss: 58.7478\n",
            "Epoch 126/200\n",
            "32/32 [==============================] - 0s 6ms/step - loss: 85.0314 - val_loss: 57.6242\n",
            "Epoch 127/200\n",
            "32/32 [==============================] - 0s 7ms/step - loss: 85.1456 - val_loss: 60.1324\n",
            "Epoch 128/200\n",
            "32/32 [==============================] - 0s 6ms/step - loss: 85.4496 - val_loss: 57.6635\n",
            "Epoch 129/200\n",
            "32/32 [==============================] - 0s 6ms/step - loss: 84.9278 - val_loss: 61.2022\n",
            "Epoch 130/200\n",
            "32/32 [==============================] - 0s 6ms/step - loss: 85.1160 - val_loss: 62.6936\n",
            "Epoch 131/200\n",
            "32/32 [==============================] - 0s 6ms/step - loss: 85.1518 - val_loss: 60.2131\n",
            "Epoch 132/200\n",
            "32/32 [==============================] - 0s 7ms/step - loss: 85.0496 - val_loss: 61.3046\n",
            "Epoch 133/200\n",
            "32/32 [==============================] - 0s 6ms/step - loss: 85.3595 - val_loss: 59.2186\n",
            "Epoch 134/200\n",
            "32/32 [==============================] - 0s 7ms/step - loss: 84.8275 - val_loss: 61.5081\n",
            "Epoch 135/200\n",
            "32/32 [==============================] - 0s 6ms/step - loss: 85.1902 - val_loss: 64.1625\n",
            "Epoch 136/200\n",
            "32/32 [==============================] - 0s 7ms/step - loss: 85.0543 - val_loss: 59.0718\n",
            "Epoch 137/200\n",
            "32/32 [==============================] - 0s 6ms/step - loss: 85.0086 - val_loss: 64.2604\n",
            "Epoch 138/200\n",
            "32/32 [==============================] - 0s 6ms/step - loss: 85.4081 - val_loss: 59.5450\n",
            "Epoch 139/200\n",
            "32/32 [==============================] - 0s 6ms/step - loss: 84.8824 - val_loss: 58.8488\n",
            "Epoch 140/200\n",
            "32/32 [==============================] - 0s 6ms/step - loss: 84.8383 - val_loss: 62.9991\n",
            "Epoch 141/200\n",
            "32/32 [==============================] - 0s 7ms/step - loss: 85.1346 - val_loss: 61.5368\n",
            "Epoch 142/200\n",
            "32/32 [==============================] - 0s 6ms/step - loss: 85.0254 - val_loss: 59.9438\n",
            "Epoch 143/200\n",
            "32/32 [==============================] - 0s 6ms/step - loss: 85.0667 - val_loss: 56.4684\n",
            "Epoch 144/200\n",
            "32/32 [==============================] - 0s 6ms/step - loss: 85.0637 - val_loss: 64.9767\n",
            "Epoch 145/200\n",
            "32/32 [==============================] - 0s 6ms/step - loss: 84.8725 - val_loss: 59.2862\n",
            "Epoch 146/200\n",
            "32/32 [==============================] - 0s 7ms/step - loss: 84.9310 - val_loss: 59.4784\n",
            "Epoch 147/200\n",
            "32/32 [==============================] - 0s 6ms/step - loss: 85.0602 - val_loss: 65.5310\n",
            "Epoch 148/200\n",
            "32/32 [==============================] - 0s 6ms/step - loss: 85.2528 - val_loss: 59.0107\n",
            "Epoch 149/200\n",
            "32/32 [==============================] - 0s 6ms/step - loss: 85.6776 - val_loss: 64.7424\n",
            "Epoch 150/200\n",
            "32/32 [==============================] - 0s 6ms/step - loss: 84.9710 - val_loss: 61.7233\n",
            "Epoch 151/200\n",
            "32/32 [==============================] - 0s 6ms/step - loss: 84.8196 - val_loss: 63.0182\n",
            "Epoch 152/200\n",
            "32/32 [==============================] - 0s 6ms/step - loss: 84.9106 - val_loss: 61.8883\n",
            "Epoch 153/200\n",
            "32/32 [==============================] - 0s 6ms/step - loss: 84.8409 - val_loss: 57.9043\n",
            "Epoch 154/200\n",
            "32/32 [==============================] - 0s 6ms/step - loss: 84.9341 - val_loss: 58.6848\n",
            "Epoch 155/200\n",
            "32/32 [==============================] - 0s 6ms/step - loss: 85.0093 - val_loss: 65.7544\n",
            "Epoch 156/200\n",
            "32/32 [==============================] - 0s 6ms/step - loss: 85.1681 - val_loss: 56.3998\n",
            "Epoch 157/200\n",
            "32/32 [==============================] - 0s 7ms/step - loss: 84.7801 - val_loss: 58.6659\n",
            "Epoch 158/200\n",
            "32/32 [==============================] - 0s 6ms/step - loss: 84.9008 - val_loss: 58.7509\n",
            "Epoch 159/200\n",
            "32/32 [==============================] - 0s 6ms/step - loss: 84.7757 - val_loss: 56.4984\n",
            "Epoch 160/200\n",
            "32/32 [==============================] - 0s 6ms/step - loss: 85.2035 - val_loss: 58.3293\n",
            "Epoch 161/200\n",
            "32/32 [==============================] - 0s 6ms/step - loss: 85.0109 - val_loss: 56.7157\n",
            "Epoch 162/200\n",
            "32/32 [==============================] - 0s 6ms/step - loss: 84.8275 - val_loss: 59.8477\n",
            "Epoch 163/200\n",
            "32/32 [==============================] - 0s 6ms/step - loss: 84.9358 - val_loss: 61.5902\n",
            "Epoch 164/200\n",
            "32/32 [==============================] - 0s 6ms/step - loss: 85.3996 - val_loss: 56.2661\n",
            "Epoch 165/200\n",
            "32/32 [==============================] - 0s 7ms/step - loss: 85.1012 - val_loss: 63.6871\n",
            "Epoch 166/200\n",
            "32/32 [==============================] - 0s 6ms/step - loss: 85.2466 - val_loss: 60.3189\n",
            "Epoch 167/200\n",
            "32/32 [==============================] - 0s 7ms/step - loss: 84.8610 - val_loss: 62.1590\n",
            "Epoch 168/200\n",
            "32/32 [==============================] - 0s 6ms/step - loss: 84.8468 - val_loss: 58.4180\n",
            "Epoch 169/200\n",
            "32/32 [==============================] - 0s 6ms/step - loss: 85.0409 - val_loss: 58.0705\n",
            "Epoch 170/200\n",
            "32/32 [==============================] - 0s 6ms/step - loss: 84.9058 - val_loss: 62.8087\n",
            "Epoch 171/200\n",
            "32/32 [==============================] - 0s 7ms/step - loss: 84.9916 - val_loss: 68.2469\n",
            "Epoch 172/200\n",
            "32/32 [==============================] - 0s 6ms/step - loss: 84.9993 - val_loss: 58.6420\n",
            "Epoch 173/200\n",
            "32/32 [==============================] - 0s 6ms/step - loss: 84.9308 - val_loss: 62.3436\n",
            "Epoch 174/200\n",
            "32/32 [==============================] - 0s 6ms/step - loss: 85.0170 - val_loss: 61.5068\n",
            "Epoch 175/200\n",
            "32/32 [==============================] - 0s 6ms/step - loss: 84.9510 - val_loss: 58.8628\n",
            "Epoch 176/200\n",
            "32/32 [==============================] - 0s 6ms/step - loss: 84.8285 - val_loss: 61.7067\n",
            "Epoch 177/200\n",
            "32/32 [==============================] - 0s 6ms/step - loss: 85.0195 - val_loss: 60.2121\n",
            "Epoch 178/200\n",
            "32/32 [==============================] - 0s 6ms/step - loss: 85.0271 - val_loss: 56.2652\n",
            "Epoch 179/200\n",
            "32/32 [==============================] - 0s 6ms/step - loss: 85.2589 - val_loss: 62.5284\n",
            "Epoch 180/200\n",
            "32/32 [==============================] - 0s 6ms/step - loss: 85.0264 - val_loss: 65.7847\n",
            "Epoch 181/200\n",
            "32/32 [==============================] - 0s 6ms/step - loss: 85.1828 - val_loss: 63.0934\n",
            "Epoch 182/200\n",
            "32/32 [==============================] - 0s 6ms/step - loss: 85.1870 - val_loss: 63.7271\n",
            "Epoch 183/200\n",
            "32/32 [==============================] - 0s 6ms/step - loss: 85.1335 - val_loss: 62.1315\n",
            "Epoch 184/200\n",
            "32/32 [==============================] - 0s 6ms/step - loss: 85.1687 - val_loss: 60.9233\n",
            "Epoch 185/200\n",
            "32/32 [==============================] - 0s 6ms/step - loss: 84.9513 - val_loss: 64.4407\n",
            "Epoch 186/200\n",
            "32/32 [==============================] - 0s 7ms/step - loss: 85.5283 - val_loss: 56.8232\n",
            "Epoch 187/200\n",
            "32/32 [==============================] - 0s 6ms/step - loss: 85.7548 - val_loss: 66.1227\n",
            "Epoch 188/200\n",
            "32/32 [==============================] - 0s 6ms/step - loss: 85.0763 - val_loss: 59.0892\n",
            "Epoch 189/200\n",
            "32/32 [==============================] - 0s 6ms/step - loss: 84.9067 - val_loss: 65.2886\n",
            "Epoch 190/200\n",
            "32/32 [==============================] - 0s 7ms/step - loss: 84.9591 - val_loss: 59.6230\n",
            "Epoch 191/200\n",
            "32/32 [==============================] - 0s 6ms/step - loss: 85.2367 - val_loss: 60.3278\n",
            "Epoch 192/200\n",
            "32/32 [==============================] - 0s 6ms/step - loss: 85.2707 - val_loss: 58.9933\n",
            "Epoch 193/200\n",
            "32/32 [==============================] - 0s 6ms/step - loss: 84.7811 - val_loss: 57.1399\n",
            "Epoch 194/200\n",
            "32/32 [==============================] - 0s 7ms/step - loss: 85.2255 - val_loss: 57.8122\n",
            "Epoch 195/200\n",
            "32/32 [==============================] - 0s 7ms/step - loss: 84.7913 - val_loss: 60.5807\n",
            "Epoch 196/200\n",
            "32/32 [==============================] - 0s 7ms/step - loss: 85.5357 - val_loss: 58.5508\n",
            "Epoch 197/200\n",
            "32/32 [==============================] - 0s 6ms/step - loss: 84.7946 - val_loss: 58.2984\n",
            "Epoch 198/200\n",
            "32/32 [==============================] - 0s 6ms/step - loss: 84.8518 - val_loss: 61.8968\n",
            "Epoch 199/200\n",
            "32/32 [==============================] - 0s 7ms/step - loss: 85.0641 - val_loss: 65.6897\n",
            "Epoch 200/200\n",
            "32/32 [==============================] - 0s 7ms/step - loss: 85.0182 - val_loss: 55.3085\n",
            "10/10 [==============================] - 0s 3ms/step\n",
            "[   0    2    3 ... 1590 1592 1594]\n",
            "Epoch 1/200\n",
            "32/32 [==============================] - 1s 11ms/step - loss: 86.9288 - val_loss: 65.4853\n",
            "Epoch 2/200\n",
            "32/32 [==============================] - 0s 7ms/step - loss: 85.4376 - val_loss: 57.7576\n",
            "Epoch 3/200\n",
            "32/32 [==============================] - 0s 7ms/step - loss: 85.0328 - val_loss: 62.9288\n",
            "Epoch 4/200\n",
            "32/32 [==============================] - 0s 7ms/step - loss: 84.9937 - val_loss: 55.2806\n",
            "Epoch 5/200\n",
            "32/32 [==============================] - 0s 7ms/step - loss: 84.6061 - val_loss: 57.6587\n",
            "Epoch 6/200\n",
            "32/32 [==============================] - 0s 6ms/step - loss: 84.2075 - val_loss: 58.6209\n",
            "Epoch 7/200\n",
            "32/32 [==============================] - 0s 6ms/step - loss: 84.2490 - val_loss: 58.5870\n",
            "Epoch 8/200\n",
            "32/32 [==============================] - 0s 7ms/step - loss: 84.3688 - val_loss: 59.9298\n",
            "Epoch 9/200\n",
            "32/32 [==============================] - 0s 6ms/step - loss: 84.6437 - val_loss: 57.1095\n",
            "Epoch 10/200\n",
            "32/32 [==============================] - 0s 6ms/step - loss: 84.1950 - val_loss: 59.6680\n",
            "Epoch 11/200\n",
            "32/32 [==============================] - 0s 7ms/step - loss: 84.2950 - val_loss: 66.4292\n",
            "Epoch 12/200\n",
            "32/32 [==============================] - 0s 7ms/step - loss: 84.3414 - val_loss: 57.1694\n",
            "Epoch 13/200\n",
            "32/32 [==============================] - 0s 7ms/step - loss: 84.0612 - val_loss: 64.0787\n",
            "Epoch 14/200\n",
            "32/32 [==============================] - 0s 7ms/step - loss: 84.5108 - val_loss: 63.1055\n",
            "Epoch 15/200\n",
            "32/32 [==============================] - 0s 6ms/step - loss: 84.0993 - val_loss: 59.4813\n",
            "Epoch 16/200\n",
            "32/32 [==============================] - 0s 7ms/step - loss: 84.6061 - val_loss: 56.0858\n",
            "Epoch 17/200\n",
            "32/32 [==============================] - 0s 7ms/step - loss: 84.4284 - val_loss: 57.2390\n",
            "Epoch 18/200\n",
            "32/32 [==============================] - 0s 6ms/step - loss: 84.1900 - val_loss: 61.1560\n",
            "Epoch 19/200\n",
            "32/32 [==============================] - 0s 7ms/step - loss: 84.2513 - val_loss: 59.4686\n",
            "Epoch 20/200\n",
            "32/32 [==============================] - 0s 7ms/step - loss: 84.2965 - val_loss: 68.7014\n",
            "Epoch 21/200\n",
            "32/32 [==============================] - 0s 7ms/step - loss: 84.7195 - val_loss: 60.8952\n",
            "Epoch 22/200\n",
            "32/32 [==============================] - 0s 7ms/step - loss: 84.0428 - val_loss: 59.5888\n",
            "Epoch 23/200\n",
            "32/32 [==============================] - 0s 7ms/step - loss: 84.0767 - val_loss: 62.1111\n",
            "Epoch 24/200\n",
            "32/32 [==============================] - 0s 7ms/step - loss: 84.5854 - val_loss: 61.0284\n",
            "Epoch 25/200\n",
            "32/32 [==============================] - 0s 7ms/step - loss: 84.2090 - val_loss: 60.9346\n",
            "Epoch 26/200\n",
            "32/32 [==============================] - 0s 6ms/step - loss: 84.1383 - val_loss: 63.7841\n",
            "Epoch 27/200\n",
            "32/32 [==============================] - 0s 7ms/step - loss: 84.2983 - val_loss: 59.1793\n",
            "Epoch 28/200\n",
            "32/32 [==============================] - 0s 7ms/step - loss: 84.5870 - val_loss: 67.9006\n",
            "Epoch 29/200\n",
            "32/32 [==============================] - 0s 6ms/step - loss: 84.6199 - val_loss: 58.6274\n",
            "Epoch 30/200\n",
            "32/32 [==============================] - 0s 7ms/step - loss: 84.6834 - val_loss: 61.3149\n",
            "Epoch 31/200\n",
            "32/32 [==============================] - 0s 7ms/step - loss: 84.3085 - val_loss: 63.7242\n",
            "Epoch 32/200\n",
            "32/32 [==============================] - 0s 6ms/step - loss: 84.2147 - val_loss: 60.0142\n",
            "Epoch 33/200\n",
            "32/32 [==============================] - 0s 7ms/step - loss: 84.1323 - val_loss: 60.0703\n",
            "Epoch 34/200\n",
            "32/32 [==============================] - 0s 7ms/step - loss: 84.0293 - val_loss: 64.4013\n",
            "Epoch 35/200\n",
            "32/32 [==============================] - 0s 6ms/step - loss: 84.8721 - val_loss: 59.2299\n",
            "Epoch 36/200\n",
            "32/32 [==============================] - 0s 7ms/step - loss: 84.3349 - val_loss: 60.1760\n",
            "Epoch 37/200\n",
            "32/32 [==============================] - 0s 7ms/step - loss: 84.1518 - val_loss: 62.2646\n",
            "Epoch 38/200\n",
            "32/32 [==============================] - 0s 7ms/step - loss: 84.2728 - val_loss: 60.3563\n",
            "Epoch 39/200\n",
            "32/32 [==============================] - 0s 7ms/step - loss: 84.0633 - val_loss: 59.4368\n",
            "Epoch 40/200\n",
            "32/32 [==============================] - 0s 7ms/step - loss: 84.4478 - val_loss: 68.1269\n",
            "Epoch 41/200\n",
            "32/32 [==============================] - 0s 7ms/step - loss: 84.6117 - val_loss: 63.5416\n",
            "Epoch 42/200\n",
            "32/32 [==============================] - 0s 7ms/step - loss: 84.8175 - val_loss: 60.6963\n",
            "Epoch 43/200\n",
            "32/32 [==============================] - 0s 7ms/step - loss: 84.4953 - val_loss: 59.5573\n",
            "Epoch 44/200\n",
            "32/32 [==============================] - 0s 6ms/step - loss: 84.0749 - val_loss: 60.5901\n",
            "Epoch 45/200\n",
            "32/32 [==============================] - 0s 7ms/step - loss: 84.4328 - val_loss: 61.2594\n",
            "Epoch 46/200\n",
            "32/32 [==============================] - 0s 7ms/step - loss: 84.7975 - val_loss: 63.2575\n",
            "Epoch 47/200\n",
            "32/32 [==============================] - 0s 7ms/step - loss: 84.4136 - val_loss: 60.5796\n",
            "Epoch 48/200\n",
            "32/32 [==============================] - 0s 7ms/step - loss: 84.2079 - val_loss: 64.2974\n",
            "Epoch 49/200\n",
            "32/32 [==============================] - 0s 7ms/step - loss: 84.1758 - val_loss: 66.1940\n",
            "Epoch 50/200\n",
            "32/32 [==============================] - 0s 7ms/step - loss: 84.7571 - val_loss: 56.6954\n",
            "Epoch 51/200\n",
            "32/32 [==============================] - 0s 6ms/step - loss: 84.3166 - val_loss: 57.7791\n",
            "Epoch 52/200\n",
            "32/32 [==============================] - 0s 7ms/step - loss: 84.3785 - val_loss: 58.3711\n",
            "Epoch 53/200\n",
            "32/32 [==============================] - 0s 6ms/step - loss: 84.0858 - val_loss: 58.2909\n",
            "Epoch 54/200\n",
            "32/32 [==============================] - 0s 7ms/step - loss: 84.1087 - val_loss: 58.9136\n",
            "Epoch 55/200\n",
            "32/32 [==============================] - 0s 6ms/step - loss: 84.2046 - val_loss: 59.7092\n",
            "Epoch 56/200\n",
            "32/32 [==============================] - 0s 7ms/step - loss: 84.1102 - val_loss: 60.1581\n",
            "Epoch 57/200\n",
            "32/32 [==============================] - 0s 6ms/step - loss: 84.2939 - val_loss: 61.6102\n",
            "Epoch 58/200\n",
            "32/32 [==============================] - 0s 6ms/step - loss: 84.2061 - val_loss: 60.2056\n",
            "Epoch 59/200\n",
            "32/32 [==============================] - 0s 7ms/step - loss: 84.5693 - val_loss: 65.0908\n",
            "Epoch 60/200\n",
            "32/32 [==============================] - 0s 7ms/step - loss: 84.4448 - val_loss: 62.4769\n",
            "Epoch 61/200\n",
            "32/32 [==============================] - 0s 6ms/step - loss: 84.1999 - val_loss: 64.7905\n",
            "Epoch 62/200\n",
            "32/32 [==============================] - 0s 7ms/step - loss: 84.4128 - val_loss: 62.0208\n",
            "Epoch 63/200\n",
            "32/32 [==============================] - 0s 7ms/step - loss: 84.1716 - val_loss: 56.3740\n",
            "Epoch 64/200\n",
            "32/32 [==============================] - 0s 6ms/step - loss: 84.1642 - val_loss: 58.4182\n",
            "Epoch 65/200\n",
            "32/32 [==============================] - 0s 6ms/step - loss: 84.2123 - val_loss: 59.8240\n",
            "Epoch 66/200\n",
            "32/32 [==============================] - 0s 6ms/step - loss: 84.2735 - val_loss: 67.1175\n",
            "Epoch 67/200\n",
            "32/32 [==============================] - 0s 6ms/step - loss: 84.3677 - val_loss: 68.4161\n",
            "Epoch 68/200\n",
            "32/32 [==============================] - 0s 6ms/step - loss: 84.9154 - val_loss: 64.0354\n",
            "Epoch 69/200\n",
            "32/32 [==============================] - 0s 6ms/step - loss: 84.5736 - val_loss: 60.8314\n",
            "Epoch 70/200\n",
            "32/32 [==============================] - 0s 7ms/step - loss: 84.2230 - val_loss: 66.9542\n",
            "Epoch 71/200\n",
            "32/32 [==============================] - 0s 7ms/step - loss: 84.2078 - val_loss: 59.3088\n",
            "Epoch 72/200\n",
            "32/32 [==============================] - 0s 7ms/step - loss: 84.1895 - val_loss: 61.5508\n",
            "Epoch 73/200\n",
            "32/32 [==============================] - 0s 7ms/step - loss: 84.1877 - val_loss: 57.6073\n",
            "Epoch 74/200\n",
            "32/32 [==============================] - 0s 6ms/step - loss: 84.4092 - val_loss: 58.4608\n",
            "Epoch 75/200\n",
            "32/32 [==============================] - 0s 6ms/step - loss: 84.1413 - val_loss: 60.4613\n",
            "Epoch 76/200\n",
            "32/32 [==============================] - 0s 6ms/step - loss: 84.0466 - val_loss: 60.8458\n",
            "Epoch 77/200\n",
            "32/32 [==============================] - 0s 7ms/step - loss: 84.6674 - val_loss: 57.2093\n",
            "Epoch 78/200\n",
            "32/32 [==============================] - 0s 7ms/step - loss: 84.6005 - val_loss: 60.0287\n",
            "Epoch 79/200\n",
            "32/32 [==============================] - 0s 7ms/step - loss: 84.0689 - val_loss: 63.3322\n",
            "Epoch 80/200\n",
            "32/32 [==============================] - 0s 6ms/step - loss: 84.4406 - val_loss: 73.2678\n",
            "Epoch 81/200\n",
            "32/32 [==============================] - 0s 7ms/step - loss: 84.9237 - val_loss: 58.9068\n",
            "Epoch 82/200\n",
            "32/32 [==============================] - 0s 7ms/step - loss: 84.8261 - val_loss: 64.2655\n",
            "Epoch 83/200\n",
            "32/32 [==============================] - 0s 6ms/step - loss: 84.1572 - val_loss: 61.3930\n",
            "Epoch 84/200\n",
            "32/32 [==============================] - 0s 7ms/step - loss: 84.1340 - val_loss: 59.2751\n",
            "Epoch 85/200\n",
            "32/32 [==============================] - 0s 7ms/step - loss: 84.1431 - val_loss: 58.5443\n",
            "Epoch 86/200\n",
            "32/32 [==============================] - 0s 7ms/step - loss: 83.9787 - val_loss: 61.8005\n",
            "Epoch 87/200\n",
            "32/32 [==============================] - 0s 7ms/step - loss: 84.3317 - val_loss: 62.3084\n",
            "Epoch 88/200\n",
            "32/32 [==============================] - 0s 7ms/step - loss: 84.5317 - val_loss: 60.8791\n",
            "Epoch 89/200\n",
            "32/32 [==============================] - 0s 7ms/step - loss: 84.2446 - val_loss: 67.3371\n",
            "Epoch 90/200\n",
            "32/32 [==============================] - 0s 6ms/step - loss: 84.4320 - val_loss: 59.3527\n",
            "Epoch 91/200\n",
            "32/32 [==============================] - 0s 7ms/step - loss: 84.2302 - val_loss: 65.9212\n",
            "Epoch 92/200\n",
            "32/32 [==============================] - 0s 7ms/step - loss: 84.4176 - val_loss: 61.5371\n",
            "Epoch 93/200\n",
            "32/32 [==============================] - 0s 7ms/step - loss: 84.6414 - val_loss: 60.5595\n",
            "Epoch 94/200\n",
            "32/32 [==============================] - 0s 7ms/step - loss: 84.3732 - val_loss: 57.8579\n",
            "Epoch 95/200\n",
            "32/32 [==============================] - 0s 6ms/step - loss: 84.1043 - val_loss: 60.0811\n",
            "Epoch 96/200\n",
            "32/32 [==============================] - 0s 7ms/step - loss: 84.1276 - val_loss: 70.7427\n",
            "Epoch 97/200\n",
            "32/32 [==============================] - 0s 6ms/step - loss: 84.7628 - val_loss: 57.9061\n",
            "Epoch 98/200\n",
            "32/32 [==============================] - 0s 7ms/step - loss: 84.7446 - val_loss: 64.1225\n",
            "Epoch 99/200\n",
            "32/32 [==============================] - 0s 6ms/step - loss: 84.3968 - val_loss: 65.0923\n",
            "Epoch 100/200\n",
            "32/32 [==============================] - 0s 8ms/step - loss: 84.5873 - val_loss: 58.2267\n",
            "Epoch 101/200\n",
            "32/32 [==============================] - 0s 7ms/step - loss: 84.3957 - val_loss: 57.9234\n",
            "Epoch 102/200\n",
            "32/32 [==============================] - 0s 7ms/step - loss: 84.1190 - val_loss: 57.3596\n",
            "Epoch 103/200\n",
            "32/32 [==============================] - 0s 6ms/step - loss: 84.4978 - val_loss: 59.1528\n",
            "Epoch 104/200\n",
            "32/32 [==============================] - 0s 7ms/step - loss: 84.2379 - val_loss: 61.1567\n",
            "Epoch 105/200\n",
            "32/32 [==============================] - 0s 6ms/step - loss: 84.3808 - val_loss: 57.4214\n",
            "Epoch 106/200\n",
            "32/32 [==============================] - 0s 7ms/step - loss: 84.1576 - val_loss: 62.0220\n",
            "Epoch 107/200\n",
            "32/32 [==============================] - 0s 7ms/step - loss: 84.2725 - val_loss: 60.6399\n",
            "Epoch 108/200\n",
            "32/32 [==============================] - 0s 7ms/step - loss: 84.7271 - val_loss: 65.8556\n",
            "Epoch 109/200\n",
            "32/32 [==============================] - 0s 6ms/step - loss: 84.1847 - val_loss: 61.2083\n",
            "Epoch 110/200\n",
            "32/32 [==============================] - 0s 7ms/step - loss: 84.2092 - val_loss: 58.5231\n",
            "Epoch 111/200\n",
            "32/32 [==============================] - 0s 6ms/step - loss: 84.6508 - val_loss: 68.3203\n",
            "Epoch 112/200\n",
            "32/32 [==============================] - 0s 6ms/step - loss: 84.2390 - val_loss: 60.9069\n",
            "Epoch 113/200\n",
            "32/32 [==============================] - 0s 7ms/step - loss: 83.9977 - val_loss: 59.7836\n",
            "Epoch 114/200\n",
            "32/32 [==============================] - 0s 7ms/step - loss: 84.1514 - val_loss: 59.3762\n",
            "Epoch 115/200\n",
            "32/32 [==============================] - 0s 7ms/step - loss: 84.1312 - val_loss: 60.9846\n",
            "Epoch 116/200\n",
            "32/32 [==============================] - 0s 7ms/step - loss: 84.0668 - val_loss: 59.0387\n",
            "Epoch 117/200\n",
            "32/32 [==============================] - 0s 7ms/step - loss: 84.5542 - val_loss: 69.4214\n",
            "Epoch 118/200\n",
            "32/32 [==============================] - 0s 7ms/step - loss: 84.9732 - val_loss: 62.4002\n",
            "Epoch 119/200\n",
            "32/32 [==============================] - 0s 7ms/step - loss: 84.5673 - val_loss: 69.6167\n",
            "Epoch 120/200\n",
            "32/32 [==============================] - 0s 7ms/step - loss: 84.3091 - val_loss: 59.7588\n",
            "Epoch 121/200\n",
            "32/32 [==============================] - 0s 6ms/step - loss: 84.2483 - val_loss: 63.3067\n",
            "Epoch 122/200\n",
            "32/32 [==============================] - 0s 7ms/step - loss: 84.2380 - val_loss: 62.1581\n",
            "Epoch 123/200\n",
            "32/32 [==============================] - 0s 7ms/step - loss: 84.0853 - val_loss: 60.6644\n",
            "Epoch 124/200\n",
            "32/32 [==============================] - 0s 7ms/step - loss: 84.2382 - val_loss: 58.5429\n",
            "Epoch 125/200\n",
            "32/32 [==============================] - 0s 7ms/step - loss: 84.0854 - val_loss: 58.2453\n",
            "Epoch 126/200\n",
            "32/32 [==============================] - 0s 6ms/step - loss: 84.9828 - val_loss: 68.6911\n",
            "Epoch 127/200\n",
            "32/32 [==============================] - 0s 6ms/step - loss: 84.3069 - val_loss: 60.0772\n",
            "Epoch 128/200\n",
            "32/32 [==============================] - 0s 8ms/step - loss: 84.5255 - val_loss: 72.1044\n",
            "Epoch 129/200\n",
            "32/32 [==============================] - 0s 6ms/step - loss: 84.6546 - val_loss: 60.0287\n",
            "Epoch 130/200\n",
            "32/32 [==============================] - 0s 6ms/step - loss: 84.3205 - val_loss: 60.4534\n",
            "Epoch 131/200\n",
            "32/32 [==============================] - 0s 7ms/step - loss: 84.0934 - val_loss: 59.0590\n",
            "Epoch 132/200\n",
            "32/32 [==============================] - 0s 7ms/step - loss: 84.0059 - val_loss: 59.1943\n",
            "Epoch 133/200\n",
            "32/32 [==============================] - 0s 7ms/step - loss: 84.1617 - val_loss: 61.0487\n",
            "Epoch 134/200\n",
            "32/32 [==============================] - 0s 6ms/step - loss: 84.1825 - val_loss: 61.8111\n",
            "Epoch 135/200\n",
            "32/32 [==============================] - 0s 6ms/step - loss: 84.6639 - val_loss: 67.9116\n",
            "Epoch 136/200\n",
            "32/32 [==============================] - 0s 7ms/step - loss: 84.5170 - val_loss: 61.7486\n",
            "Epoch 137/200\n",
            "32/32 [==============================] - 0s 7ms/step - loss: 84.3194 - val_loss: 61.7737\n",
            "Epoch 138/200\n",
            "32/32 [==============================] - 0s 7ms/step - loss: 84.1380 - val_loss: 58.9937\n",
            "Epoch 139/200\n",
            "32/32 [==============================] - 0s 7ms/step - loss: 84.1435 - val_loss: 61.7857\n",
            "Epoch 140/200\n",
            "32/32 [==============================] - 0s 7ms/step - loss: 84.2987 - val_loss: 56.4918\n",
            "Epoch 141/200\n",
            "32/32 [==============================] - 0s 7ms/step - loss: 84.3537 - val_loss: 62.2142\n",
            "Epoch 142/200\n",
            "32/32 [==============================] - 0s 7ms/step - loss: 84.1915 - val_loss: 57.7829\n",
            "Epoch 143/200\n",
            "32/32 [==============================] - 0s 7ms/step - loss: 84.6394 - val_loss: 64.0070\n",
            "Epoch 144/200\n",
            "32/32 [==============================] - 0s 7ms/step - loss: 84.1304 - val_loss: 59.9902\n",
            "Epoch 145/200\n",
            "32/32 [==============================] - 0s 6ms/step - loss: 84.1977 - val_loss: 70.2343\n",
            "Epoch 146/200\n",
            "32/32 [==============================] - 0s 7ms/step - loss: 85.0827 - val_loss: 73.9668\n",
            "Epoch 147/200\n",
            "32/32 [==============================] - 0s 7ms/step - loss: 84.3290 - val_loss: 58.6286\n",
            "Epoch 148/200\n",
            "32/32 [==============================] - 0s 6ms/step - loss: 84.1531 - val_loss: 61.1298\n",
            "Epoch 149/200\n",
            "32/32 [==============================] - 0s 7ms/step - loss: 84.2048 - val_loss: 60.4507\n",
            "Epoch 150/200\n",
            "32/32 [==============================] - 0s 7ms/step - loss: 84.1624 - val_loss: 58.0014\n",
            "Epoch 151/200\n",
            "32/32 [==============================] - 0s 7ms/step - loss: 84.1705 - val_loss: 61.1908\n",
            "Epoch 152/200\n",
            "32/32 [==============================] - 0s 7ms/step - loss: 84.2016 - val_loss: 56.7900\n",
            "Epoch 153/200\n",
            "32/32 [==============================] - 0s 7ms/step - loss: 84.5959 - val_loss: 59.6961\n",
            "Epoch 154/200\n",
            "32/32 [==============================] - 0s 7ms/step - loss: 83.9894 - val_loss: 61.2209\n",
            "Epoch 155/200\n",
            "32/32 [==============================] - 0s 7ms/step - loss: 84.5726 - val_loss: 61.5207\n",
            "Epoch 156/200\n",
            "32/32 [==============================] - 0s 6ms/step - loss: 84.6864 - val_loss: 57.4446\n",
            "Epoch 157/200\n",
            "32/32 [==============================] - 0s 7ms/step - loss: 84.1411 - val_loss: 58.2382\n",
            "Epoch 158/200\n",
            "32/32 [==============================] - 0s 6ms/step - loss: 84.1597 - val_loss: 58.7338\n",
            "Epoch 159/200\n",
            "32/32 [==============================] - 0s 7ms/step - loss: 84.0863 - val_loss: 62.1513\n",
            "Epoch 160/200\n",
            "32/32 [==============================] - 0s 7ms/step - loss: 84.4362 - val_loss: 60.6906\n",
            "Epoch 161/200\n",
            "32/32 [==============================] - 0s 7ms/step - loss: 83.9642 - val_loss: 60.0011\n",
            "Epoch 162/200\n",
            "32/32 [==============================] - 0s 7ms/step - loss: 84.1583 - val_loss: 61.2099\n",
            "Epoch 163/200\n",
            "32/32 [==============================] - 0s 7ms/step - loss: 84.2172 - val_loss: 61.4530\n",
            "Epoch 164/200\n",
            "32/32 [==============================] - 0s 6ms/step - loss: 84.6152 - val_loss: 62.7829\n",
            "Epoch 165/200\n",
            "32/32 [==============================] - 0s 7ms/step - loss: 84.7523 - val_loss: 56.1881\n",
            "Epoch 166/200\n",
            "32/32 [==============================] - 0s 6ms/step - loss: 84.2445 - val_loss: 61.5898\n",
            "Epoch 167/200\n",
            "32/32 [==============================] - 0s 7ms/step - loss: 84.3569 - val_loss: 61.5132\n",
            "Epoch 168/200\n",
            "32/32 [==============================] - 0s 7ms/step - loss: 84.1934 - val_loss: 63.4466\n",
            "Epoch 169/200\n",
            "32/32 [==============================] - 0s 7ms/step - loss: 84.4222 - val_loss: 64.8987\n",
            "Epoch 170/200\n",
            "32/32 [==============================] - 0s 7ms/step - loss: 84.3363 - val_loss: 61.8219\n",
            "Epoch 171/200\n",
            "32/32 [==============================] - 0s 7ms/step - loss: 84.2059 - val_loss: 59.5915\n",
            "Epoch 172/200\n",
            "32/32 [==============================] - 0s 6ms/step - loss: 84.2667 - val_loss: 60.9735\n",
            "Epoch 173/200\n",
            "32/32 [==============================] - 0s 7ms/step - loss: 84.1145 - val_loss: 57.7514\n",
            "Epoch 174/200\n",
            "32/32 [==============================] - 0s 7ms/step - loss: 84.1982 - val_loss: 56.8138\n",
            "Epoch 175/200\n",
            "32/32 [==============================] - 0s 7ms/step - loss: 84.2838 - val_loss: 64.7826\n",
            "Epoch 176/200\n",
            "32/32 [==============================] - 0s 7ms/step - loss: 84.6285 - val_loss: 64.7057\n",
            "Epoch 177/200\n",
            "32/32 [==============================] - 0s 7ms/step - loss: 84.8529 - val_loss: 55.7575\n",
            "Epoch 178/200\n",
            "32/32 [==============================] - 0s 7ms/step - loss: 84.4843 - val_loss: 59.8082\n",
            "Epoch 179/200\n",
            "32/32 [==============================] - 0s 7ms/step - loss: 84.1224 - val_loss: 60.2758\n",
            "Epoch 180/200\n",
            "32/32 [==============================] - 0s 8ms/step - loss: 84.1105 - val_loss: 68.7517\n",
            "Epoch 181/200\n",
            "32/32 [==============================] - 0s 7ms/step - loss: 84.4335 - val_loss: 63.0819\n",
            "Epoch 182/200\n",
            "32/32 [==============================] - 0s 7ms/step - loss: 84.2198 - val_loss: 58.4227\n",
            "Epoch 183/200\n",
            "32/32 [==============================] - 0s 7ms/step - loss: 84.0255 - val_loss: 60.0824\n",
            "Epoch 184/200\n",
            "32/32 [==============================] - 0s 6ms/step - loss: 84.1843 - val_loss: 61.9481\n",
            "Epoch 185/200\n",
            "32/32 [==============================] - 0s 7ms/step - loss: 84.1588 - val_loss: 62.2939\n",
            "Epoch 186/200\n",
            "32/32 [==============================] - 0s 7ms/step - loss: 84.1147 - val_loss: 59.4889\n",
            "Epoch 187/200\n",
            "32/32 [==============================] - 0s 6ms/step - loss: 84.4081 - val_loss: 60.4059\n",
            "Epoch 188/200\n",
            "32/32 [==============================] - 0s 7ms/step - loss: 84.0037 - val_loss: 65.3995\n",
            "Epoch 189/200\n",
            "32/32 [==============================] - 0s 6ms/step - loss: 84.3587 - val_loss: 63.5146\n",
            "Epoch 190/200\n",
            "32/32 [==============================] - 0s 7ms/step - loss: 84.3299 - val_loss: 56.4173\n",
            "Epoch 191/200\n",
            "32/32 [==============================] - 0s 7ms/step - loss: 84.1258 - val_loss: 58.2303\n",
            "Epoch 192/200\n",
            "32/32 [==============================] - 0s 7ms/step - loss: 84.6303 - val_loss: 64.3990\n",
            "Epoch 193/200\n",
            "32/32 [==============================] - 0s 7ms/step - loss: 84.5309 - val_loss: 59.2365\n",
            "Epoch 194/200\n",
            "32/32 [==============================] - 0s 7ms/step - loss: 84.0072 - val_loss: 61.3834\n",
            "Epoch 195/200\n",
            "32/32 [==============================] - 0s 7ms/step - loss: 84.3866 - val_loss: 60.3667\n",
            "Epoch 196/200\n",
            "32/32 [==============================] - 0s 7ms/step - loss: 84.4802 - val_loss: 62.4933\n",
            "Epoch 197/200\n",
            "32/32 [==============================] - 0s 7ms/step - loss: 84.0705 - val_loss: 60.9474\n",
            "Epoch 198/200\n",
            "32/32 [==============================] - 0s 6ms/step - loss: 84.2017 - val_loss: 62.2065\n",
            "Epoch 199/200\n",
            "32/32 [==============================] - 0s 6ms/step - loss: 84.2823 - val_loss: 61.9893\n",
            "Epoch 200/200\n",
            "32/32 [==============================] - 0s 7ms/step - loss: 84.2781 - val_loss: 60.8337\n",
            "10/10 [==============================] - 0s 4ms/step\n",
            "[   1    2    4 ... 1592 1593 1594]\n",
            "Epoch 1/200\n",
            "32/32 [==============================] - 1s 11ms/step - loss: 86.0416 - val_loss: 58.5615\n",
            "Epoch 2/200\n",
            "32/32 [==============================] - 0s 7ms/step - loss: 84.3764 - val_loss: 58.4777\n",
            "Epoch 3/200\n",
            "32/32 [==============================] - 0s 7ms/step - loss: 84.8881 - val_loss: 63.8982\n",
            "Epoch 4/200\n",
            "32/32 [==============================] - 0s 7ms/step - loss: 84.7372 - val_loss: 57.7779\n",
            "Epoch 5/200\n",
            "32/32 [==============================] - 0s 7ms/step - loss: 84.6359 - val_loss: 63.4264\n",
            "Epoch 6/200\n",
            "32/32 [==============================] - 0s 7ms/step - loss: 84.5426 - val_loss: 60.2072\n",
            "Epoch 7/200\n",
            "32/32 [==============================] - 0s 7ms/step - loss: 84.3113 - val_loss: 67.5179\n",
            "Epoch 8/200\n",
            "32/32 [==============================] - 0s 7ms/step - loss: 84.6071 - val_loss: 66.2358\n",
            "Epoch 9/200\n",
            "32/32 [==============================] - 0s 7ms/step - loss: 84.5578 - val_loss: 59.0034\n",
            "Epoch 10/200\n",
            "32/32 [==============================] - 0s 7ms/step - loss: 84.3682 - val_loss: 59.7907\n",
            "Epoch 11/200\n",
            "32/32 [==============================] - 0s 7ms/step - loss: 84.4385 - val_loss: 60.8624\n",
            "Epoch 12/200\n",
            "32/32 [==============================] - 0s 7ms/step - loss: 84.5310 - val_loss: 64.8131\n",
            "Epoch 13/200\n",
            "32/32 [==============================] - 0s 7ms/step - loss: 84.4804 - val_loss: 62.9590\n",
            "Epoch 14/200\n",
            "32/32 [==============================] - 0s 7ms/step - loss: 85.0510 - val_loss: 67.7359\n",
            "Epoch 15/200\n",
            "32/32 [==============================] - 0s 7ms/step - loss: 84.5069 - val_loss: 64.6823\n",
            "Epoch 16/200\n",
            "32/32 [==============================] - 0s 7ms/step - loss: 84.6418 - val_loss: 63.4091\n",
            "Epoch 17/200\n",
            "32/32 [==============================] - 0s 7ms/step - loss: 85.0414 - val_loss: 66.5144\n",
            "Epoch 18/200\n",
            "32/32 [==============================] - 0s 7ms/step - loss: 85.2046 - val_loss: 57.8192\n",
            "Epoch 19/200\n",
            "32/32 [==============================] - 0s 7ms/step - loss: 84.5363 - val_loss: 62.1889\n",
            "Epoch 20/200\n",
            "32/32 [==============================] - 0s 8ms/step - loss: 84.5066 - val_loss: 68.3346\n",
            "Epoch 21/200\n",
            " 9/32 [=======>......................] - ETA: 0s - loss: 85.2980"
          ]
        },
        {
          "name": "stderr",
          "output_type": "stream",
          "text": [
            "ERROR:root:Internal Python error in the inspect module.\n",
            "Below is the traceback from this internal error.\n",
            "\n"
          ]
        },
        {
          "name": "stdout",
          "output_type": "stream",
          "text": [
            "Traceback (most recent call last):\n",
            "  File \"/usr/local/lib/python3.8/dist-packages/IPython/core/interactiveshell.py\", line 3326, in run_code\n",
            "    exec(code_obj, self.user_global_ns, self.user_ns)\n",
            "  File \"<ipython-input-10-22099f80002f>\", line 20, in <module>\n",
            "    history = model.fit(np.array(X)[train.astype(int)], np.array(Y)[train.astype(int)], validation_split = 0.2, epochs=200,)\n",
            "  File \"/usr/local/lib/python3.8/dist-packages/keras/utils/traceback_utils.py\", line 64, in error_handler\n",
            "    return fn(*args, **kwargs)\n",
            "  File \"/usr/local/lib/python3.8/dist-packages/keras/engine/training.py\", line 1409, in fit\n",
            "    tmp_logs = self.train_function(iterator)\n",
            "  File \"/usr/local/lib/python3.8/dist-packages/tensorflow/python/util/traceback_utils.py\", line 150, in error_handler\n",
            "    return fn(*args, **kwargs)\n",
            "  File \"/usr/local/lib/python3.8/dist-packages/tensorflow/python/eager/def_function.py\", line 915, in __call__\n",
            "    result = self._call(*args, **kwds)\n",
            "  File \"/usr/local/lib/python3.8/dist-packages/tensorflow/python/eager/def_function.py\", line 947, in _call\n",
            "    return self._stateless_fn(*args, **kwds)  # pylint: disable=not-callable\n",
            "  File \"/usr/local/lib/python3.8/dist-packages/tensorflow/python/eager/function.py\", line 2453, in __call__\n",
            "    return graph_function._call_flat(\n",
            "  File \"/usr/local/lib/python3.8/dist-packages/tensorflow/python/eager/function.py\", line 1860, in _call_flat\n",
            "    return self._build_call_outputs(self._inference_function.call(\n",
            "  File \"/usr/local/lib/python3.8/dist-packages/tensorflow/python/eager/function.py\", line 497, in call\n",
            "    outputs = execute.execute(\n",
            "  File \"/usr/local/lib/python3.8/dist-packages/tensorflow/python/eager/execute.py\", line 54, in quick_execute\n",
            "    tensors = pywrap_tfe.TFE_Py_Execute(ctx._handle, device_name, op_name,\n",
            "KeyboardInterrupt\n",
            "\n",
            "During handling of the above exception, another exception occurred:\n",
            "\n",
            "Traceback (most recent call last):\n",
            "  File \"/usr/local/lib/python3.8/dist-packages/IPython/core/interactiveshell.py\", line 2040, in showtraceback\n",
            "    stb = value._render_traceback_()\n",
            "AttributeError: 'KeyboardInterrupt' object has no attribute '_render_traceback_'\n",
            "\n",
            "During handling of the above exception, another exception occurred:\n",
            "\n",
            "Traceback (most recent call last):\n",
            "  File \"/usr/local/lib/python3.8/dist-packages/IPython/core/ultratb.py\", line 1101, in get_records\n",
            "    return _fixed_getinnerframes(etb, number_of_lines_of_context, tb_offset)\n",
            "  File \"/usr/local/lib/python3.8/dist-packages/IPython/core/ultratb.py\", line 319, in wrapped\n",
            "    return f(*args, **kwargs)\n",
            "  File \"/usr/local/lib/python3.8/dist-packages/IPython/core/ultratb.py\", line 353, in _fixed_getinnerframes\n",
            "    records = fix_frame_records_filenames(inspect.getinnerframes(etb, context))\n",
            "  File \"/usr/lib/python3.8/inspect.py\", line 1515, in getinnerframes\n",
            "    frameinfo = (tb.tb_frame,) + getframeinfo(tb, context)\n",
            "  File \"/usr/lib/python3.8/inspect.py\", line 1473, in getframeinfo\n",
            "    filename = getsourcefile(frame) or getfile(frame)\n",
            "  File \"/usr/lib/python3.8/inspect.py\", line 708, in getsourcefile\n",
            "    if getattr(getmodule(object, filename), '__loader__', None) is not None:\n",
            "  File \"/usr/lib/python3.8/inspect.py\", line 753, in getmodule\n",
            "    modulesbyfile[f] = modulesbyfile[\n",
            "KeyboardInterrupt\n"
          ]
        },
        {
          "ename": "KeyboardInterrupt",
          "evalue": "ignored",
          "output_type": "error",
          "traceback": [
            "\u001b[0;31m---------------------------------------------------------------------------\u001b[0m"
          ]
        }
      ],
      "source": [
        "hidden_activation_function = 'relu'\n",
        "output_activation_function = 'linear'\n",
        "optimize = 'adam'\n",
        "kfold = KFold(n_splits=5, shuffle=True)\n",
        "mapes = []\n",
        "for train, test in kfold.split(X, Y):\n",
        "  print(train)\n",
        "  model = Sequential()\n",
        "  model.add(Conv1D(filters=72, kernel_size=3, activation=hidden_activation_function, input_shape=(X[0].shape[0],X[0].shape[1])))\n",
        "  model.add(Conv1D(filters=36, kernel_size=3, activation=hidden_activation_function))\n",
        "\n",
        "  # # model.add(Dropout(0.5))\n",
        "  model.add(MaxPooling1D(pool_size=4))\n",
        "  # model.add(Flatten())\n",
        "  model.add(Dense(6, activation=hidden_activation_function))\n",
        "  # model.add(Dense(1,  kernel_initializer='normal', activation=hidden_activation_function)),\n",
        "  model.add(Dense(3,  kernel_initializer='normal', activation=hidden_activation_function)),\n",
        "  model.add(Dense(1, activation=output_activation_function))\n",
        "  model.compile(loss=mape, optimizer=tf.keras.optimizers.Adam(learning_rate= 0.02,),)\n",
        "  history = model.fit(np.array(X)[train.astype(int)], np.array(Y)[train.astype(int)], validation_split = 0.2, epochs=200,)\n",
        "\n",
        "\n",
        "  # Predict test set labels\n",
        "  y_pred = model.predict(X[test])\n",
        "\n",
        "  # print( \" CNN Predicted values \", np.round( Y_pred[:30], 2 ) )\n",
        "\n",
        "  y_pred =y_pred[:, 0] \n",
        "  # print( \"Real values\t \", Y_test[:30] )\n",
        "\n",
        "  mse = mean_absolute_percentage_error(np.array(Y)[test], y_pred) *100 ##( |ypred - ytrue|/ytrue * 100)\n",
        "  mapes.append(mse)\n",
        "\n",
        "\n",
        "print(' The mean absolute percentage Error is ->', np.array(mapes).mean(), '%')\n",
        "\n",
        "model.summary()\n",
        "with open(\"report.txt\", \"a\") as f:\n",
        "  model.summary(print_fn=lambda x: f.write(x + '\\n'))\n",
        "  f.write('Hidden Layer Activation Function :' +str(hidden_activation_function)+ '\\n')\n",
        "  f.write('Output Layer Activation Function :' +str(output_activation_function)+ '\\n')\n",
        "  f.write('Optimizer Function :' +str(optimize)+ '\\n')\n",
        "  f.write('The Mean absolute percentage Error is ->' +str(np.array(mapes).mean())+ '%'+ '\\n\\n\\n')\n",
        "  \n"
      ]
    },
    {
      "cell_type": "code",
      "execution_count": null,
      "metadata": {
        "colab": {
          "base_uri": "https://localhost:8080/"
        },
        "id": "_1R9j0P0FTj6",
        "outputId": "6cbc8220-a603-4a79-f26e-f675b2abf779"
      },
      "outputs": [
        {
          "name": "stdout",
          "output_type": "stream",
          "text": [
            "Epoch 1/150\n",
            "32/32 [==============================] - 4s 24ms/step - loss: 80.1289 - val_loss: 75.3640\n",
            "Epoch 2/150\n",
            "32/32 [==============================] - 0s 15ms/step - loss: 70.6992 - val_loss: 68.5762\n",
            "Epoch 3/150\n",
            "32/32 [==============================] - 0s 15ms/step - loss: 65.1600 - val_loss: 65.8225\n",
            "Epoch 4/150\n",
            "32/32 [==============================] - 1s 16ms/step - loss: 60.6161 - val_loss: 57.9887\n",
            "Epoch 5/150\n",
            "32/32 [==============================] - 0s 15ms/step - loss: 58.0070 - val_loss: 54.9767\n",
            "Epoch 6/150\n",
            "32/32 [==============================] - 0s 15ms/step - loss: 54.1116 - val_loss: 49.9616\n",
            "Epoch 7/150\n",
            "32/32 [==============================] - 0s 14ms/step - loss: 51.5223 - val_loss: 49.7915\n",
            "Epoch 8/150\n",
            "32/32 [==============================] - 0s 13ms/step - loss: 47.6946 - val_loss: 45.1698\n",
            "Epoch 9/150\n",
            "32/32 [==============================] - 0s 14ms/step - loss: 44.0053 - val_loss: 40.4476\n",
            "Epoch 10/150\n",
            "32/32 [==============================] - 0s 15ms/step - loss: 42.0278 - val_loss: 41.9289\n",
            "Epoch 11/150\n",
            "32/32 [==============================] - 0s 15ms/step - loss: 41.2991 - val_loss: 38.9702\n",
            "Epoch 12/150\n",
            "32/32 [==============================] - 0s 14ms/step - loss: 38.6925 - val_loss: 36.9028\n",
            "Epoch 13/150\n",
            "32/32 [==============================] - 0s 8ms/step - loss: 38.8694 - val_loss: 43.3138\n",
            "Epoch 14/150\n",
            "32/32 [==============================] - 0s 7ms/step - loss: 37.6993 - val_loss: 36.8770\n",
            "Epoch 15/150\n",
            "32/32 [==============================] - 0s 7ms/step - loss: 36.0329 - val_loss: 38.6851\n",
            "Epoch 16/150\n",
            "32/32 [==============================] - 0s 9ms/step - loss: 34.9263 - val_loss: 34.6018\n",
            "Epoch 17/150\n",
            "32/32 [==============================] - 0s 8ms/step - loss: 33.1427 - val_loss: 39.2574\n",
            "Epoch 18/150\n",
            "32/32 [==============================] - 0s 7ms/step - loss: 33.0094 - val_loss: 33.6099\n",
            "Epoch 19/150\n",
            "32/32 [==============================] - 0s 8ms/step - loss: 32.3117 - val_loss: 39.3514\n",
            "Epoch 20/150\n",
            "32/32 [==============================] - 0s 8ms/step - loss: 33.5032 - val_loss: 39.8198\n",
            "Epoch 21/150\n",
            "32/32 [==============================] - 0s 7ms/step - loss: 32.8541 - val_loss: 40.0997\n",
            "Epoch 22/150\n",
            "32/32 [==============================] - 0s 7ms/step - loss: 31.2300 - val_loss: 36.2630\n",
            "Epoch 23/150\n",
            "32/32 [==============================] - 0s 8ms/step - loss: 30.3106 - val_loss: 36.8752\n",
            "Epoch 24/150\n",
            "32/32 [==============================] - 0s 8ms/step - loss: 27.9447 - val_loss: 34.8012\n",
            "Epoch 25/150\n",
            "32/32 [==============================] - 0s 7ms/step - loss: 29.5007 - val_loss: 36.9134\n",
            "Epoch 26/150\n",
            "32/32 [==============================] - 0s 7ms/step - loss: 29.0785 - val_loss: 34.1829\n",
            "Epoch 27/150\n",
            "32/32 [==============================] - 0s 7ms/step - loss: 27.8691 - val_loss: 35.0950\n",
            "Epoch 28/150\n",
            "32/32 [==============================] - 0s 8ms/step - loss: 27.1679 - val_loss: 37.1374\n",
            "Epoch 29/150\n",
            "32/32 [==============================] - 0s 13ms/step - loss: 27.6244 - val_loss: 34.6007\n",
            "Epoch 30/150\n",
            "32/32 [==============================] - 0s 14ms/step - loss: 30.4401 - val_loss: 29.9055\n",
            "Epoch 31/150\n",
            "32/32 [==============================] - 0s 15ms/step - loss: 25.9344 - val_loss: 31.8115\n",
            "Epoch 32/150\n",
            "32/32 [==============================] - 0s 12ms/step - loss: 24.7498 - val_loss: 29.2051\n",
            "Epoch 33/150\n",
            "32/32 [==============================] - 0s 10ms/step - loss: 24.6271 - val_loss: 32.7661\n",
            "Epoch 34/150\n",
            "32/32 [==============================] - 0s 7ms/step - loss: 24.5076 - val_loss: 34.3335\n",
            "Epoch 35/150\n",
            "32/32 [==============================] - 0s 7ms/step - loss: 24.2734 - val_loss: 28.5048\n",
            "Epoch 36/150\n",
            "32/32 [==============================] - 0s 8ms/step - loss: 23.8020 - val_loss: 28.5802\n",
            "Epoch 37/150\n",
            "32/32 [==============================] - 0s 8ms/step - loss: 22.8120 - val_loss: 31.8707\n",
            "Epoch 38/150\n",
            "32/32 [==============================] - 0s 7ms/step - loss: 22.6884 - val_loss: 30.2834\n",
            "Epoch 39/150\n",
            "32/32 [==============================] - 0s 7ms/step - loss: 22.6615 - val_loss: 34.1638\n",
            "Epoch 40/150\n",
            "32/32 [==============================] - 0s 7ms/step - loss: 23.0177 - val_loss: 26.9380\n",
            "Epoch 41/150\n",
            "32/32 [==============================] - 0s 8ms/step - loss: 22.6135 - val_loss: 25.0338\n",
            "Epoch 42/150\n",
            "32/32 [==============================] - 0s 7ms/step - loss: 23.1343 - val_loss: 27.7468\n",
            "Epoch 43/150\n",
            "32/32 [==============================] - 0s 7ms/step - loss: 21.0949 - val_loss: 30.8688\n",
            "Epoch 44/150\n",
            "32/32 [==============================] - 0s 7ms/step - loss: 21.7403 - val_loss: 29.5946\n",
            "Epoch 45/150\n",
            "32/32 [==============================] - 0s 8ms/step - loss: 19.5808 - val_loss: 29.5185\n",
            "Epoch 46/150\n",
            "32/32 [==============================] - 0s 8ms/step - loss: 20.6653 - val_loss: 37.5050\n",
            "Epoch 47/150\n",
            "32/32 [==============================] - 0s 7ms/step - loss: 20.4864 - val_loss: 29.4287\n",
            "Epoch 48/150\n",
            "32/32 [==============================] - 0s 8ms/step - loss: 19.8574 - val_loss: 31.2185\n",
            "Epoch 49/150\n",
            "32/32 [==============================] - 0s 8ms/step - loss: 18.8279 - val_loss: 32.6412\n",
            "Epoch 50/150\n",
            "32/32 [==============================] - 0s 7ms/step - loss: 22.7906 - val_loss: 32.0159\n",
            "Epoch 51/150\n",
            "32/32 [==============================] - 0s 7ms/step - loss: 23.7989 - val_loss: 29.5613\n",
            "Epoch 52/150\n",
            "32/32 [==============================] - 0s 8ms/step - loss: 29.0125 - val_loss: 39.5142\n",
            "Epoch 53/150\n",
            "32/32 [==============================] - 0s 8ms/step - loss: 30.4777 - val_loss: 30.2771\n",
            "Epoch 54/150\n",
            "32/32 [==============================] - 0s 7ms/step - loss: 23.5954 - val_loss: 30.8357\n",
            "Epoch 55/150\n",
            "32/32 [==============================] - 0s 8ms/step - loss: 19.9846 - val_loss: 32.9952\n",
            "Epoch 56/150\n",
            "32/32 [==============================] - 0s 8ms/step - loss: 19.4048 - val_loss: 37.3974\n",
            "Epoch 57/150\n",
            "32/32 [==============================] - 0s 8ms/step - loss: 18.8756 - val_loss: 39.2552\n",
            "Epoch 58/150\n",
            "32/32 [==============================] - 0s 8ms/step - loss: 17.5744 - val_loss: 29.7827\n",
            "Epoch 59/150\n",
            "32/32 [==============================] - 0s 7ms/step - loss: 19.0256 - val_loss: 35.4943\n",
            "Epoch 60/150\n",
            "32/32 [==============================] - 0s 8ms/step - loss: 16.9133 - val_loss: 34.8464\n",
            "Epoch 61/150\n",
            "32/32 [==============================] - 0s 8ms/step - loss: 15.8640 - val_loss: 28.8118\n",
            "Epoch 62/150\n",
            "32/32 [==============================] - 0s 7ms/step - loss: 16.8977 - val_loss: 28.6950\n",
            "Epoch 63/150\n",
            "32/32 [==============================] - 0s 8ms/step - loss: 17.1348 - val_loss: 33.3101\n",
            "Epoch 64/150\n",
            "32/32 [==============================] - 0s 7ms/step - loss: 15.4028 - val_loss: 32.7501\n",
            "Epoch 65/150\n",
            "32/32 [==============================] - 0s 8ms/step - loss: 15.1924 - val_loss: 29.2377\n",
            "Epoch 66/150\n",
            "32/32 [==============================] - 0s 7ms/step - loss: 15.0986 - val_loss: 24.3975\n",
            "Epoch 67/150\n",
            "32/32 [==============================] - 0s 7ms/step - loss: 15.7353 - val_loss: 28.1315\n",
            "Epoch 68/150\n",
            "32/32 [==============================] - 0s 8ms/step - loss: 15.4995 - val_loss: 29.2219\n",
            "Epoch 69/150\n",
            "32/32 [==============================] - 0s 8ms/step - loss: 14.8332 - val_loss: 30.2432\n",
            "Epoch 70/150\n",
            "32/32 [==============================] - 0s 7ms/step - loss: 17.7452 - val_loss: 37.1556\n",
            "Epoch 71/150\n",
            "32/32 [==============================] - 0s 8ms/step - loss: 16.7600 - val_loss: 32.7625\n",
            "Epoch 72/150\n",
            "32/32 [==============================] - 0s 7ms/step - loss: 16.0708 - val_loss: 38.2653\n",
            "Epoch 73/150\n",
            "32/32 [==============================] - 0s 8ms/step - loss: 15.5249 - val_loss: 39.3663\n",
            "Epoch 74/150\n",
            "32/32 [==============================] - 0s 8ms/step - loss: 16.4574 - val_loss: 27.4354\n",
            "Epoch 75/150\n",
            "32/32 [==============================] - 0s 7ms/step - loss: 16.4489 - val_loss: 32.6350\n",
            "Epoch 76/150\n",
            "32/32 [==============================] - 0s 8ms/step - loss: 17.4818 - val_loss: 25.8412\n",
            "Epoch 77/150\n",
            "32/32 [==============================] - 0s 8ms/step - loss: 17.6347 - val_loss: 31.3125\n",
            "Epoch 78/150\n",
            "32/32 [==============================] - 0s 7ms/step - loss: 15.3018 - val_loss: 25.3729\n",
            "Epoch 79/150\n",
            "32/32 [==============================] - 0s 7ms/step - loss: 15.0901 - val_loss: 27.1250\n",
            "Epoch 80/150\n",
            "32/32 [==============================] - 0s 8ms/step - loss: 14.1074 - val_loss: 28.4051\n",
            "Epoch 81/150\n",
            "32/32 [==============================] - 0s 7ms/step - loss: 14.5012 - val_loss: 29.8738\n",
            "Epoch 82/150\n",
            "32/32 [==============================] - 0s 7ms/step - loss: 13.7035 - val_loss: 27.8142\n",
            "Epoch 83/150\n",
            "32/32 [==============================] - 0s 7ms/step - loss: 13.2859 - val_loss: 32.0361\n",
            "Epoch 84/150\n",
            "32/32 [==============================] - 0s 7ms/step - loss: 13.1000 - val_loss: 25.6959\n",
            "Epoch 85/150\n",
            "32/32 [==============================] - 0s 7ms/step - loss: 14.2176 - val_loss: 24.9763\n",
            "Epoch 86/150\n",
            "32/32 [==============================] - 0s 8ms/step - loss: 13.1316 - val_loss: 24.4581\n",
            "Epoch 87/150\n",
            "32/32 [==============================] - 0s 7ms/step - loss: 13.6699 - val_loss: 24.0870\n",
            "Epoch 88/150\n",
            "32/32 [==============================] - 0s 8ms/step - loss: 12.9795 - val_loss: 26.5527\n",
            "Epoch 89/150\n",
            "32/32 [==============================] - 0s 8ms/step - loss: 12.4982 - val_loss: 31.0358\n",
            "Epoch 90/150\n",
            "32/32 [==============================] - 0s 8ms/step - loss: 12.2748 - val_loss: 25.7431\n",
            "Epoch 91/150\n",
            "32/32 [==============================] - 0s 8ms/step - loss: 12.2039 - val_loss: 30.6835\n",
            "Epoch 92/150\n",
            "32/32 [==============================] - 0s 8ms/step - loss: 12.5218 - val_loss: 21.8051\n",
            "Epoch 93/150\n",
            "32/32 [==============================] - 0s 7ms/step - loss: 11.9017 - val_loss: 22.0719\n",
            "Epoch 94/150\n",
            "32/32 [==============================] - 0s 8ms/step - loss: 11.8666 - val_loss: 23.0057\n",
            "Epoch 95/150\n",
            "32/32 [==============================] - 0s 8ms/step - loss: 12.5296 - val_loss: 23.1046\n",
            "Epoch 96/150\n",
            "32/32 [==============================] - 0s 8ms/step - loss: 12.4534 - val_loss: 24.0798\n",
            "Epoch 97/150\n",
            "32/32 [==============================] - 0s 7ms/step - loss: 11.5705 - val_loss: 20.5707\n",
            "Epoch 98/150\n",
            "32/32 [==============================] - 0s 8ms/step - loss: 11.4837 - val_loss: 21.4719\n",
            "Epoch 99/150\n",
            "32/32 [==============================] - 0s 8ms/step - loss: 13.9865 - val_loss: 23.5535\n",
            "Epoch 100/150\n",
            "32/32 [==============================] - 0s 7ms/step - loss: 12.5632 - val_loss: 24.8146\n",
            "Epoch 101/150\n",
            "32/32 [==============================] - 0s 7ms/step - loss: 13.5454 - val_loss: 23.0828\n",
            "Epoch 102/150\n",
            "32/32 [==============================] - 0s 8ms/step - loss: 12.4558 - val_loss: 19.7501\n",
            "Epoch 103/150\n",
            "32/32 [==============================] - 0s 8ms/step - loss: 12.6540 - val_loss: 20.5607\n",
            "Epoch 104/150\n",
            "32/32 [==============================] - 0s 8ms/step - loss: 12.2157 - val_loss: 20.8142\n",
            "Epoch 105/150\n",
            "32/32 [==============================] - 0s 7ms/step - loss: 11.9248 - val_loss: 27.7999\n",
            "Epoch 106/150\n",
            "32/32 [==============================] - 0s 8ms/step - loss: 12.4484 - val_loss: 22.1834\n",
            "Epoch 107/150\n",
            "32/32 [==============================] - 0s 8ms/step - loss: 12.7964 - val_loss: 29.8484\n",
            "Epoch 108/150\n",
            "32/32 [==============================] - 0s 8ms/step - loss: 11.8149 - val_loss: 27.6321\n",
            "Epoch 109/150\n",
            "32/32 [==============================] - 0s 7ms/step - loss: 12.9630 - val_loss: 22.0777\n",
            "Epoch 110/150\n",
            "32/32 [==============================] - 0s 8ms/step - loss: 13.3475 - val_loss: 24.2964\n",
            "Epoch 111/150\n",
            "32/32 [==============================] - 0s 7ms/step - loss: 13.4319 - val_loss: 20.7654\n",
            "Epoch 112/150\n",
            "32/32 [==============================] - 0s 7ms/step - loss: 13.2855 - val_loss: 21.2785\n",
            "Epoch 113/150\n",
            "32/32 [==============================] - 0s 7ms/step - loss: 12.8480 - val_loss: 18.5833\n",
            "Epoch 114/150\n",
            "32/32 [==============================] - 0s 8ms/step - loss: 11.7802 - val_loss: 20.9017\n",
            "Epoch 115/150\n",
            "32/32 [==============================] - 0s 8ms/step - loss: 12.2669 - val_loss: 27.7072\n",
            "Epoch 116/150\n",
            "32/32 [==============================] - 0s 8ms/step - loss: 12.3923 - val_loss: 25.6128\n",
            "Epoch 117/150\n",
            "32/32 [==============================] - 0s 8ms/step - loss: 11.9658 - val_loss: 20.9550\n",
            "Epoch 118/150\n",
            "32/32 [==============================] - 0s 8ms/step - loss: 11.8871 - val_loss: 21.1530\n",
            "Epoch 119/150\n",
            "32/32 [==============================] - 0s 7ms/step - loss: 10.7375 - val_loss: 24.9401\n",
            "Epoch 120/150\n",
            "32/32 [==============================] - 0s 8ms/step - loss: 11.3647 - val_loss: 24.7461\n",
            "Epoch 121/150\n",
            "32/32 [==============================] - 0s 7ms/step - loss: 11.2877 - val_loss: 29.5251\n",
            "Epoch 122/150\n",
            "32/32 [==============================] - 0s 8ms/step - loss: 12.5745 - val_loss: 20.8319\n",
            "Epoch 123/150\n",
            "32/32 [==============================] - 0s 7ms/step - loss: 11.5266 - val_loss: 26.3875\n",
            "Epoch 124/150\n",
            "32/32 [==============================] - 0s 7ms/step - loss: 10.9088 - val_loss: 23.6750\n",
            "Epoch 125/150\n",
            "32/32 [==============================] - 0s 7ms/step - loss: 11.1219 - val_loss: 26.5671\n",
            "Epoch 126/150\n",
            "32/32 [==============================] - 0s 8ms/step - loss: 10.8988 - val_loss: 31.8637\n",
            "Epoch 127/150\n",
            "32/32 [==============================] - 0s 7ms/step - loss: 10.7155 - val_loss: 29.5415\n",
            "Epoch 128/150\n",
            "32/32 [==============================] - 0s 8ms/step - loss: 13.4229 - val_loss: 21.9278\n",
            "Epoch 129/150\n",
            "32/32 [==============================] - 0s 7ms/step - loss: 14.1758 - val_loss: 27.5343\n",
            "Epoch 130/150\n",
            "32/32 [==============================] - 0s 7ms/step - loss: 16.6938 - val_loss: 23.0212\n",
            "Epoch 131/150\n",
            "32/32 [==============================] - 0s 8ms/step - loss: 15.0680 - val_loss: 22.9566\n",
            "Epoch 132/150\n",
            "32/32 [==============================] - 0s 8ms/step - loss: 13.1760 - val_loss: 24.4518\n",
            "Epoch 133/150\n",
            "32/32 [==============================] - 0s 7ms/step - loss: 12.8715 - val_loss: 24.3408\n",
            "Epoch 134/150\n",
            "32/32 [==============================] - 0s 8ms/step - loss: 12.4657 - val_loss: 28.6301\n",
            "Epoch 135/150\n",
            "32/32 [==============================] - 0s 8ms/step - loss: 15.2978 - val_loss: 36.7004\n",
            "Epoch 136/150\n",
            "32/32 [==============================] - 0s 8ms/step - loss: 19.8530 - val_loss: 30.8648\n",
            "Epoch 137/150\n",
            "32/32 [==============================] - 0s 8ms/step - loss: 20.2749 - val_loss: 23.8916\n",
            "Epoch 138/150\n",
            "32/32 [==============================] - 0s 8ms/step - loss: 18.1246 - val_loss: 25.2583\n",
            "Epoch 139/150\n",
            "32/32 [==============================] - 0s 8ms/step - loss: 13.0203 - val_loss: 19.6401\n",
            "Epoch 140/150\n",
            "32/32 [==============================] - 0s 8ms/step - loss: 13.2411 - val_loss: 20.5930\n",
            "Epoch 141/150\n",
            "32/32 [==============================] - 0s 8ms/step - loss: 13.5294 - val_loss: 18.9604\n",
            "Epoch 142/150\n",
            "32/32 [==============================] - 0s 7ms/step - loss: 12.6620 - val_loss: 19.7480\n",
            "Epoch 143/150\n",
            "32/32 [==============================] - 0s 8ms/step - loss: 11.0834 - val_loss: 18.9289\n",
            "Epoch 144/150\n",
            "32/32 [==============================] - 0s 8ms/step - loss: 11.4116 - val_loss: 22.0866\n",
            "Epoch 145/150\n",
            "32/32 [==============================] - 0s 7ms/step - loss: 11.5443 - val_loss: 20.9504\n",
            "Epoch 146/150\n",
            "32/32 [==============================] - 0s 8ms/step - loss: 11.9137 - val_loss: 23.1745\n",
            "Epoch 147/150\n",
            "32/32 [==============================] - 0s 8ms/step - loss: 11.7647 - val_loss: 28.9728\n",
            "Epoch 148/150\n",
            "32/32 [==============================] - 0s 8ms/step - loss: 10.9420 - val_loss: 27.0232\n",
            "Epoch 149/150\n",
            "32/32 [==============================] - 0s 8ms/step - loss: 10.4637 - val_loss: 28.1876\n",
            "Epoch 150/150\n",
            "32/32 [==============================] - 0s 8ms/step - loss: 10.1119 - val_loss: 29.2260\n",
            "10/10 [==============================] - 0s 2ms/step\n",
            " The mean absolute percentage Error is -> 45.585054902601335 %\n",
            "Model: \"sequential_4\"\n",
            "_________________________________________________________________\n",
            " Layer (type)                Output Shape              Param #   \n",
            "=================================================================\n",
            " conv1d_8 (Conv1D)           (None, 12, 36)            360       \n",
            "                                                                 \n",
            " conv1d_9 (Conv1D)           (None, 8, 72)             13032     \n",
            "                                                                 \n",
            " conv1d_10 (Conv1D)          (None, 6, 128)            27776     \n",
            "                                                                 \n",
            " dropout (Dropout)           (None, 6, 128)            0         \n",
            "                                                                 \n",
            " flatten (Flatten)           (None, 768)               0         \n",
            "                                                                 \n",
            " dense_12 (Dense)            (None, 32)                24608     \n",
            "                                                                 \n",
            " dense_13 (Dense)            (None, 16)                528       \n",
            "                                                                 \n",
            " dense_14 (Dense)            (None, 8)                 136       \n",
            "                                                                 \n",
            " dense_15 (Dense)            (None, 1)                 9         \n",
            "                                                                 \n",
            "=================================================================\n",
            "Total params: 66,449\n",
            "Trainable params: 66,449\n",
            "Non-trainable params: 0\n",
            "_________________________________________________________________\n"
          ]
        }
      ],
      "source": [
        "hidden_activation_function = 'relu'\n",
        "output_activation_function = 'linear'\n",
        "optimize = 'adam'\n",
        "\n",
        "# X_train, X_test, X_train, Y_test = train_test_split(X, Y, test_size=0.2, random_state=42)\n",
        "\n",
        "model = Sequential()\n",
        "# model.add(Conv1D(filters=72, kernel_size=3, activation=hidden_activation_function, input_shape=(X_train[0].shape[0],X_train[0].shape[1])))\n",
        "# model.add(Conv1D(filters=72, kernel_size=3, activation=hidden_activation_function, input_shape=(X_train[0].shape[0],X_train[0].shape[1])))\n",
        "\n",
        "\n",
        "model.add(Conv1D(filters=36, kernel_size=9, activation=hidden_activation_function, input_shape=(X_train[0].shape[0],X_train[0].shape[1])))\n",
        "model.add(Conv1D(filters=72, kernel_size=5, activation=hidden_activation_function, input_shape=(X_train[0].shape[0],X_train[0].shape[1])))\n",
        "\n",
        "model.add(Conv1D(filters=128, kernel_size=3, activation=hidden_activation_function))\n",
        "# model.add(Conv1D(filters=256, kernel_size=3, activation=hidden_activation_function))\n",
        "\n",
        "\n",
        "# model.add(MaxPooling1D(pool_size=4))\n",
        "model.add(Dropout(0.5))\n",
        "model.add(Flatten())\n",
        "model.add(Dense(32, activation=hidden_activation_function))\n",
        "\n",
        "model.add(Dense(16, activation=hidden_activation_function))\n",
        "# model.add(Dense(8, activation=hidden_activation_function))\n",
        "\n",
        "# model.add(Dense(1,  kernel_initializer='normal', activation=hidden_activation_function)),\n",
        "model.add(Dense(8,  kernel_initializer='normal', activation=hidden_activation_function)),\n",
        "model.add(Dense(1, activation=output_activation_function))\n",
        "model.compile(loss=mape, optimizer=tf.keras.optimizers.Adam(learning_rate= 0.002,),)\n",
        "history = model.fit(X_train, Y_train, validation_split = 0.2, epochs=150,)\n",
        "\n",
        "\n",
        "# Predict test set labels\n",
        "y_pred = model.predict(X_test)\n",
        "\n",
        "# print( \" CNN Predicted values \", np.round( Y_pred[:30], 2 ) )\n",
        "\n",
        "y_pred =y_pred[:, 0] \n",
        "# print( \"Real values\t \", Y_test[:30] )\n",
        "\n",
        "mse = mean_absolute_percentage_error(Y_test, y_pred) *100 ##( |ypred - ytrue|/ytrue * 100)\n",
        "\n",
        "\n",
        "\n",
        "print(' The mean absolute percentage Error is ->', mse, '%')\n",
        "\n",
        "model.summary()\n",
        "with open(\"report.txt\", \"a\") as f:\n",
        "  model.summary(print_fn=lambda x: f.write(x + '\\n'))\n",
        "  f.write('Hidden Layer Activation Function :' +str(hidden_activation_function)+ '\\n')\n",
        "  f.write('Output Layer Activation Function :' +str(output_activation_function)+ '\\n')\n",
        "  f.write('Optimizer Function :' +str(optimize)+ '\\n')\n",
        "  f.write('The Mean absolute percentage Error is ->' +str(mse)+ '%'+ '\\n\\n\\n')\n",
        "  \n"
      ]
    },
    {
      "cell_type": "code",
      "execution_count": null,
      "metadata": {
        "colab": {
          "base_uri": "https://localhost:8080/"
        },
        "id": "WFGZcBCwmqp_",
        "outputId": "82209c8a-672a-44d6-8d01-f585d6b28758"
      },
      "outputs": [
        {
          "data": {
            "text/plain": [
              "20"
            ]
          },
          "execution_count": 44,
          "metadata": {},
          "output_type": "execute_result"
        }
      ],
      "source": [
        "X_train[0].shape[0]"
      ]
    },
    {
      "cell_type": "code",
      "execution_count": null,
      "metadata": {
        "colab": {
          "base_uri": "https://localhost:8080/",
          "height": 513
        },
        "id": "LzNnuSMji9LD",
        "outputId": "9f2652cb-4722-44f0-8c63-56d69589628a"
      },
      "outputs": [
        {
          "data": {
            "image/png": "[encoded data removed]",
            "text/plain": [
              "<Figure size 576x576 with 1 Axes>"
            ]
          },
          "metadata": {
            "needs_background": "light"
          },
          "output_type": "display_data"
        }
      ],
      "source": [
        "import matplotlib.pyplot as plt\n",
        "plt.figure(figsize=(8,8))\n",
        "\n",
        "loss_train = history.history['loss']\n",
        "loss_val = history.history['val_loss']\n",
        "epochs = range(1,len(loss_train)+1)\n",
        "plt.plot(epochs, loss_train, 'b', label='Training MAPE')\n",
        "plt.plot(epochs, loss_val, 'r', label='Validation MAPE')\n",
        "plt.title('Training and Validation MAPE')\n",
        "plt.xlabel('Epochs')\n",
        "plt.ylabel('MAPE')\n",
        "plt.legend()\n",
        "plt.show()"
      ]
    },
    {
      "cell_type": "code",
      "execution_count": null,
      "metadata": {
        "colab": {
          "base_uri": "https://localhost:8080/"
        },
        "id": "GoozgWa9i-xr",
        "outputId": "c258e8ea-9341-47f5-cf12-46c083fc3a6e"
      },
      "outputs": [
        {
          "name": "stdout",
          "output_type": "stream",
          "text": [
            "1/1 [==============================] - 0s 176ms/step\n",
            " CNN Predicted values  [1.71 1.79 1.81 1.34 1.15 1.85 1.51 1.81 1.96 1.82 2.11 1.74 2.39 1.63]\n",
            "Real values\t  [5.5, 0.3, 2.0, 0.4, 0.5, 3.5, 1.0, 5.5, 3.5, 2.5, 3.5, 3.5, 3.5, 1.5]\n",
            " The Mean absolute percentage Error is -> 91.65724545913065 %\n"
          ]
        }
      ],
      "source": []
    },
    {
      "cell_type": "code",
      "execution_count": null,
      "metadata": {
        "id": "w2KCH8xojArF"
      },
      "outputs": [],
      "source": [
        "model.save('./saved_models/baseline_model.h5')\n"
      ]
    },
    {
      "cell_type": "code",
      "execution_count": null,
      "metadata": {
        "id": "dASOI6HgjErv"
      },
      "outputs": [],
      "source": [
        "import os\n",
        "baseline_model_size = os.path.getsize('./saved_models/baseline_model.h5')"
      ]
    },
    {
      "cell_type": "code",
      "execution_count": null,
      "metadata": {
        "colab": {
          "base_uri": "https://localhost:8080/"
        },
        "id": "PwnspI5ajHIO",
        "outputId": "15ddc263-b685-4e61-b016-ba6260f9766f"
      },
      "outputs": [
        {
          "name": "stdout",
          "output_type": "stream",
          "text": [
            "Looking in indexes: https://pypi.org/simple, https://us-python.pkg.dev/colab-wheels/public/simple/\n",
            "Collecting tensorflow-model-optimization\n",
            "  Downloading tensorflow_model_optimization-0.7.3-py2.py3-none-any.whl (238 kB)\n",
            "\u001b[K     |████████████████████████████████| 238 kB 5.1 MB/s \n",
            "\u001b[?25hRequirement already satisfied: dm-tree~=0.1.1 in /usr/local/lib/python3.8/dist-packages (from tensorflow-model-optimization) (0.1.7)\n",
            "Requirement already satisfied: six~=1.10 in /usr/local/lib/python3.8/dist-packages (from tensorflow-model-optimization) (1.15.0)\n",
            "Requirement already satisfied: numpy~=1.14 in /usr/local/lib/python3.8/dist-packages (from tensorflow-model-optimization) (1.21.6)\n",
            "Installing collected packages: tensorflow-model-optimization\n",
            "Successfully installed tensorflow-model-optimization-0.7.3\n"
          ]
        }
      ],
      "source": [
        "# Installing with the `--upgrade` flag ensures you'll get the latest version.\n",
        "!pip install tensorflow-model-optimization"
      ]
    },
    {
      "cell_type": "code",
      "execution_count": null,
      "metadata": {
        "id": "T-qchDKcjI4O"
      },
      "outputs": [],
      "source": [
        "import tensorflow_model_optimization as tfmot\n",
        "prune_low_magnitude = tfmot.sparsity.keras.prune_low_magnitude\n",
        "epochs = 50\n",
        "batch_size = 32\n",
        "end_step = 200\n",
        "\n",
        "pruning_params = {\n",
        "      'pruning_schedule': tfmot.sparsity.keras.PolynomialDecay(initial_sparsity=0.50, final_sparsity=0.80, begin_step=0, end_step=end_step)\n",
        "}\n",
        "\n",
        "pruned_model = prune_low_magnitude(model,**pruning_params)\n",
        "pruned_model.compile(optimizer=tf.keras.optimizers.Adam(learning_rate= 0.002,),loss=mape)\n"
      ]
    },
    {
      "cell_type": "code",
      "execution_count": null,
      "metadata": {
        "id": "29QcRpwzjTCk"
      },
      "outputs": [],
      "source": [
        "import tempfile\n",
        "log_dir = tempfile.mkdtemp()\n",
        "callbacks = [\n",
        "    tfmot.sparsity.keras.UpdatePruningStep(),\n",
        "    tfmot.sparsity.keras.PruningSummaries(log_dir=log_dir)\n",
        "]"
      ]
    },
    {
      "cell_type": "code",
      "execution_count": null,
      "metadata": {
        "colab": {
          "base_uri": "https://localhost:8080/"
        },
        "id": "zPHAFqCAjURz",
        "outputId": "5b1af484-57bd-4854-87a0-666b9d507df3"
      },
      "outputs": [
        {
          "name": "stdout",
          "output_type": "stream",
          "text": [
            "Epoch 1/30\n",
            " 6/40 [===>..........................] - ETA: 0s - loss: 12.1411  "
          ]
        },
        {
          "name": "stderr",
          "output_type": "stream",
          "text": [
            "WARNING:tensorflow:Callback method `on_train_batch_end` is slow compared to the batch time (batch time: 0.0094s vs `on_train_batch_end` time: 0.0230s). Check your callbacks.\n"
          ]
        },
        {
          "name": "stdout",
          "output_type": "stream",
          "text": [
            "40/40 [==============================] - 7s 21ms/step - loss: 15.1178 - val_loss: 35.6659\n",
            "Epoch 2/30\n",
            "40/40 [==============================] - 1s 13ms/step - loss: 13.4215 - val_loss: 40.0038\n",
            "Epoch 3/30\n",
            "40/40 [==============================] - 0s 12ms/step - loss: 47.3261 - val_loss: 65.3827\n",
            "Epoch 4/30\n",
            "40/40 [==============================] - 0s 12ms/step - loss: 59.4551 - val_loss: 56.4954\n",
            "Epoch 5/30\n",
            "40/40 [==============================] - 0s 12ms/step - loss: 45.4607 - val_loss: 60.7722\n",
            "Epoch 6/30\n",
            "40/40 [==============================] - 0s 12ms/step - loss: 41.2905 - val_loss: 49.3129\n",
            "Epoch 7/30\n",
            "40/40 [==============================] - 0s 12ms/step - loss: 34.5631 - val_loss: 44.0706\n",
            "Epoch 8/30\n",
            "40/40 [==============================] - 0s 12ms/step - loss: 31.4275 - val_loss: 41.8062\n",
            "Epoch 9/30\n",
            "40/40 [==============================] - 1s 13ms/step - loss: 29.2171 - val_loss: 41.5042\n",
            "Epoch 10/30\n",
            "40/40 [==============================] - 1s 13ms/step - loss: 27.0241 - val_loss: 41.2749\n",
            "Epoch 11/30\n",
            "40/40 [==============================] - 0s 12ms/step - loss: 25.7222 - val_loss: 41.3673\n",
            "Epoch 12/30\n",
            "40/40 [==============================] - 1s 13ms/step - loss: 25.5613 - val_loss: 39.4035\n",
            "Epoch 13/30\n",
            "40/40 [==============================] - 0s 12ms/step - loss: 23.5952 - val_loss: 41.7046\n",
            "Epoch 14/30\n",
            "40/40 [==============================] - 1s 13ms/step - loss: 22.3331 - val_loss: 42.3838\n",
            "Epoch 15/30\n",
            "40/40 [==============================] - 1s 13ms/step - loss: 22.1910 - val_loss: 41.8365\n",
            "Epoch 16/30\n",
            "40/40 [==============================] - 1s 13ms/step - loss: 21.5210 - val_loss: 42.3834\n",
            "Epoch 17/30\n",
            "40/40 [==============================] - 0s 12ms/step - loss: 21.6736 - val_loss: 40.1406\n",
            "Epoch 18/30\n",
            "40/40 [==============================] - 1s 13ms/step - loss: 21.6163 - val_loss: 42.7275\n",
            "Epoch 19/30\n",
            "40/40 [==============================] - 1s 13ms/step - loss: 20.7323 - val_loss: 42.3894\n",
            "Epoch 20/30\n",
            "40/40 [==============================] - 1s 13ms/step - loss: 19.8270 - val_loss: 42.8367\n",
            "Epoch 21/30\n",
            "40/40 [==============================] - 0s 12ms/step - loss: 20.0721 - val_loss: 39.4976\n",
            "Epoch 22/30\n",
            "40/40 [==============================] - 1s 13ms/step - loss: 19.9363 - val_loss: 42.7343\n",
            "Epoch 23/30\n",
            "40/40 [==============================] - 0s 12ms/step - loss: 18.7481 - val_loss: 42.7923\n",
            "Epoch 24/30\n",
            "40/40 [==============================] - 1s 13ms/step - loss: 18.5575 - val_loss: 40.4502\n",
            "Epoch 25/30\n",
            "40/40 [==============================] - 1s 13ms/step - loss: 18.8086 - val_loss: 39.7622\n",
            "Epoch 26/30\n",
            "40/40 [==============================] - 0s 12ms/step - loss: 19.0032 - val_loss: 42.4379\n",
            "Epoch 27/30\n",
            "40/40 [==============================] - 1s 13ms/step - loss: 18.8849 - val_loss: 43.4608\n",
            "Epoch 28/30\n",
            "40/40 [==============================] - 1s 13ms/step - loss: 17.5854 - val_loss: 43.5342\n",
            "Epoch 29/30\n",
            "40/40 [==============================] - 0s 11ms/step - loss: 16.9882 - val_loss: 43.0523\n",
            "Epoch 30/30\n",
            "40/40 [==============================] - 1s 13ms/step - loss: 17.8072 - val_loss: 43.4902\n"
          ]
        },
        {
          "data": {
            "text/plain": [
              "<keras.callbacks.History at 0x7f7e485fcc40>"
            ]
          },
          "execution_count": 72,
          "metadata": {},
          "output_type": "execute_result"
        }
      ],
      "source": [
        "pruned_model.fit(x=X_train,y=np.array(Y_train),epochs=epochs,validation_data=(X_test,np.array(Y_test)),callbacks=callbacks) \n"
      ]
    },
    {
      "cell_type": "code",
      "execution_count": null,
      "metadata": {
        "colab": {
          "base_uri": "https://localhost:8080/"
        },
        "id": "BT07FywajYEr",
        "outputId": "b4e04b73-2063-4fdb-b949-18815abc8ac9"
      },
      "outputs": [
        {
          "name": "stdout",
          "output_type": "stream",
          "text": [
            "10/10 [==============================] - 0s 4ms/step\n"
          ]
        }
      ],
      "source": [
        "predictions=pruned_model.predict(X_test)\n",
        "pruned_rmse = mean_absolute_percentage_error(Y_test, y_pred) *100 ##( |ypred - ytrue|/ytrue * 100)\n",
        "\n"
      ]
    },
    {
      "cell_type": "code",
      "execution_count": null,
      "metadata": {
        "colab": {
          "base_uri": "https://localhost:8080/"
        },
        "id": "2UIE7j5UjcL9",
        "outputId": "021ed358-af67-49c4-ceae-ca76bab24be3"
      },
      "outputs": [
        {
          "name": "stdout",
          "output_type": "stream",
          "text": [
            "pruned MAPE ->  37.02358859404185\n"
          ]
        }
      ],
      "source": [
        "print(\"pruned MAPE -> \", pruned_rmse)\n"
      ]
    },
    {
      "cell_type": "code",
      "execution_count": null,
      "metadata": {
        "colab": {
          "base_uri": "https://localhost:8080/"
        },
        "id": "xLFTmZv6jdX0",
        "outputId": "70be2812-09dd-40f6-d746-b7c8d4fd2b96"
      },
      "outputs": [
        {
          "name": "stderr",
          "output_type": "stream",
          "text": [
            "WARNING:tensorflow:Compiled the loaded model, but the compiled metrics have yet to be built. `model.compile_metrics` will be empty until you train or evaluate the model.\n"
          ]
        }
      ],
      "source": [
        "model_for_export = tfmot.sparsity.keras.strip_pruning(pruned_model)\n",
        "model_for_export.save('./saved_models/pruned_model.h5')"
      ]
    },
    {
      "cell_type": "code",
      "execution_count": null,
      "metadata": {
        "id": "oNE2AJH8jemH"
      },
      "outputs": [],
      "source": [
        "pruned_model_size = os.path.getsize('./saved_models/pruned_model.h5')"
      ]
    },
    {
      "cell_type": "code",
      "execution_count": null,
      "metadata": {
        "colab": {
          "base_uri": "https://localhost:8080/"
        },
        "id": "huGTqjeyjg5r",
        "outputId": "4c7ba180-c54f-447b-cff8-64d83a213c24"
      },
      "outputs": [
        {
          "name": "stdout",
          "output_type": "stream",
          "text": [
            "300336\n",
            "863928\n"
          ]
        }
      ],
      "source": [
        "print(pruned_model_size)\n",
        "print(baseline_model_size)"
      ]
    },
    {
      "cell_type": "code",
      "execution_count": null,
      "metadata": {
        "colab": {
          "base_uri": "https://localhost:8080/"
        },
        "id": "Ch6NQTHSjj0W",
        "outputId": "fc278530-0aa1-4148-96c3-3c9bdf6ff11b"
      },
      "outputs": [
        {
          "name": "stdout",
          "output_type": "stream",
          "text": [
            "pruned model mape 37.02358859404185\n",
            "original model mape 37.02358859404185\n"
          ]
        }
      ],
      "source": [
        "print(\"pruned model mape\",pruned_rmse)\n",
        "print(\"original model mape\",pruned_rmse)\n"
      ]
    },
    {
      "cell_type": "code",
      "execution_count": null,
      "metadata": {
        "id": "UZwen5GE2xLJ"
      },
      "outputs": [],
      "source": [
        "converter = tf.lite.TFLiteConverter.from_keras_model(model_for_export)\n",
        "converter.optimizations = [tf.lite.Optimize.DEFAULT]\n",
        "\n",
        "quantized_and_pruned_tflite_model = converter.convert()\n",
        "\n",
        "with open('./saved_models/pruned_quantized_model.tflite', 'wb') as f:\n",
        "  f.write(quantized_and_pruned_tflite_model)"
      ]
    },
    {
      "cell_type": "code",
      "execution_count": null,
      "metadata": {
        "id": "Lgls1k3r2xLJ"
      },
      "outputs": [],
      "source": [
        "pruned_quantized_model_size = os.path.getsize('./saved_models/pruned_quantized_model.tflite')"
      ]
    },
    {
      "cell_type": "code",
      "execution_count": null,
      "metadata": {
        "colab": {
          "base_uri": "https://localhost:8080/"
        },
        "id": "Gapp6vI62xLJ",
        "outputId": "d88191db-cbe6-4dee-a50c-dd32e50e20c0"
      },
      "outputs": [
        {
          "name": "stdout",
          "output_type": "stream",
          "text": [
            "33480\n"
          ]
        }
      ],
      "source": [
        "print(baseline_model_size)"
      ]
    },
    {
      "cell_type": "code",
      "execution_count": null,
      "metadata": {
        "colab": {
          "base_uri": "https://localhost:8080/"
        },
        "id": "PnerQL_w2xLJ",
        "outputId": "261d5017-a27d-4c59-d362-925305af62ad"
      },
      "outputs": [
        {
          "name": "stdout",
          "output_type": "stream",
          "text": [
            "18264\n"
          ]
        }
      ],
      "source": [
        "print(pruned_model_size)"
      ]
    },
    {
      "cell_type": "code",
      "execution_count": null,
      "metadata": {
        "colab": {
          "base_uri": "https://localhost:8080/"
        },
        "id": "Gq6gUv8S2xLJ",
        "outputId": "3f1b7dab-6c62-4097-dd47-de73b1f6ecff"
      },
      "outputs": [
        {
          "name": "stdout",
          "output_type": "stream",
          "text": [
            "2320\n"
          ]
        }
      ],
      "source": [
        "print(pruned_quantized_model_size)"
      ]
    },
    {
      "cell_type": "code",
      "execution_count": null,
      "metadata": {
        "id": "eHIHrbyq2xLJ"
      },
      "outputs": [],
      "source": [
        "# Load TFLite model and allocate tensors.\n",
        "# How to predict with tfLite mode [Unzipping]\n",
        "interpreter = tf.lite.Interpreter(model_content=quantized_and_pruned_tflite_model)\n",
        "interpreter.allocate_tensors()# Get input and output tensors.\n",
        "input_details = interpreter.get_input_details()\n",
        "output_details = interpreter.get_output_details()\n",
        "input_shape = input_details[0]['shape']\n",
        "predictions = []\n",
        "for i in range(len(X_test)):\n",
        "    input_data = X_test[i]\n",
        "    input_data = np.expand_dims(input_data, axis=0).astype(np.float32)\n",
        "\n",
        "    interpreter.set_tensor(input_details[0]['index'], input_data)\n",
        "    interpreter.invoke()\n",
        "    output_data = interpreter.get_tensor(output_details[0]['index'])\n",
        "    predictions.append(output_data)"
      ]
    },
    {
      "cell_type": "code",
      "execution_count": null,
      "metadata": {
        "colab": {
          "base_uri": "https://localhost:8080/"
        },
        "id": "th4JJSTh2xLJ",
        "outputId": "fea144fa-3de0-429c-c5ae-fed5fd2309da"
      },
      "outputs": [
        {
          "name": "stdout",
          "output_type": "stream",
          "text": [
            "RMSE: 1.7125412567078007\n"
          ]
        }
      ],
      "source": [
        "predictions = np.array(predictions).reshape(-1, 1)\n",
        "pruned_quantized_rmse = np.sqrt(mean_squared_error(Y_test, predictions))\n",
        "print(f'RMSE: {np.sqrt(mean_squared_error(Y_test, predictions))}')"
      ]
    },
    {
      "cell_type": "code",
      "execution_count": null,
      "metadata": {
        "colab": {
          "base_uri": "https://localhost:8080/"
        },
        "id": "1Q7nT7OL2xLJ",
        "outputId": "8fce27d1-ae72-477d-e90f-08d450aba417"
      },
      "outputs": [
        {
          "name": "stdout",
          "output_type": "stream",
          "text": [
            "1.597258753124207\n"
          ]
        }
      ],
      "source": [
        "print(base_rmse)"
      ]
    },
    {
      "cell_type": "code",
      "execution_count": null,
      "metadata": {
        "colab": {
          "base_uri": "https://localhost:8080/"
        },
        "id": "6e10KKYc2xLJ",
        "outputId": "438f35b8-6549-4156-8fd7-99e3e7506e51"
      },
      "outputs": [
        {
          "name": "stdout",
          "output_type": "stream",
          "text": [
            "1.5447936887265623\n"
          ]
        }
      ],
      "source": [
        "print(pruned_rmse)"
      ]
    },
    {
      "cell_type": "code",
      "execution_count": null,
      "metadata": {
        "colab": {
          "base_uri": "https://localhost:8080/"
        },
        "id": "6lmxyuwg2xLJ",
        "outputId": "c100ae36-326c-4fdd-8637-38f8f1d5b3e6"
      },
      "outputs": [
        {
          "name": "stdout",
          "output_type": "stream",
          "text": [
            "1.5450361501845076\n"
          ]
        }
      ],
      "source": [
        "print(pruned_quantized_rmse)"
      ]
    }
  ],
  "metadata": {
    "colab": {
      "provenance": []
    },
    "kernelspec": {
      "display_name": "Python 3",
      "language": "python",
      "name": "python3"
    },
    "language_info": {
      "codemirror_mode": {
        "name": "ipython",
        "version": 3
      },
      "file_extension": ".py",
      "mimetype": "text/x-python",
      "name": "python",
      "nbconvert_exporter": "python",
      "pygments_lexer": "ipython3",
      "version": "3.10.7 (tags/v3.10.7:6cc6b13, Sep  5 2022, 14:08:36) [MSC v.1933 64 bit (AMD64)]"
    },
    "vscode": {
      "interpreter": {
        "hash": "38a36c82fe596e6e58355f215a19a92d2ca09b5cad718d4c00c89b2255394af2"
      }
    }
  },
  "nbformat": 4,
  "nbformat_minor": 0
}
